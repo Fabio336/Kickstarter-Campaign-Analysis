{
 "cells": [
  {
   "cell_type": "markdown",
   "id": "486c7236-318d-455c-9fec-e48b588d56d5",
   "metadata": {
    "tags": []
   },
   "source": [
    "## Kickstarter Projects - What is kickstarter?\n",
    "\n",
    "Kickstarter PBC is a funding platform for creative projects. Everything from films, games, and music to art, design, and technology. Kickstarter is full of ambitious, innovative, and imaginative ideas that are brought to life through the direct support of others.\n",
    "\n",
    "Everything on Kickstarter must be a project with a clear goal, like making an album, a book, or a work of art. A project will eventually be completed, and something will be produced by it.\n",
    "\n",
    "Kickstarter is not a store, backers pledge to projects to help them come to life and support a creative process. To thank their backers for their support, project creators offer unique rewards that speak to the spirit of what they're hoping to create.\n",
    "\n",
    "What is kickstarter? https://help.kickstarter.com/hc/en-us/articles/115004996453-What-is-Kickstarter-\n",
    "\n",
    "## About the Dataset\n",
    "\n",
    "You'll find most useful data for project analysis. Columns are self explanatory except:\n",
    "\n",
    "usd_pledged: conversion in US dollars of the pledged column (conversion done by kickstarter).\n",
    "\n",
    "usd pledge real: conversion in US dollars of the pledged column (conversion from Fixer.io API).\n",
    "\n",
    "usd goal real: conversion in US dollars of the goal column (conversion from Fixer.io API).\n",
    "\n",
    "Kickstarter Project Kaggle: https://www.kaggle.com/kemical/kickstarter-projects?select=ks-projects-201801.csv\n",
    "\n",
    "## Data Analysis process for this project\n",
    "\n",
    "1. Download the dataset from Kaggle: https://www.kaggle.com/kemical/kickstarter-projects?select=ks-projects-201801.csv\n",
    "2. Exploration of the dataset\n",
    "3. Data cleaning.\n",
    "4. The fun part (DATA ANALYSIS)."
   ]
  },
  {
   "cell_type": "markdown",
   "id": "c9649309-7fb4-410d-871f-8d30b4a6aaf8",
   "metadata": {
    "jp-MarkdownHeadingCollapsed": true,
    "tags": []
   },
   "source": [
    "### 1. Download the dataset from kaggle and import the dataset to the workspace"
   ]
  },
  {
   "cell_type": "markdown",
   "id": "452d6e8d-15e5-421c-ad11-f482871cf6ab",
   "metadata": {},
   "source": [
    "1. Download the dataset to your computer and save it in the same folder where you will save the Jupyter Project.\n",
    "2. After, import the dataset to the workspace and the needed libraries."
   ]
  },
  {
   "cell_type": "code",
   "execution_count": 1,
   "id": "b5797f96-b3c6-43be-a640-4c049e5dc9b9",
   "metadata": {
    "tags": []
   },
   "outputs": [],
   "source": [
    "import pandas as pd\n",
    "import seaborn as sns \n",
    "import matplotlib.pyplot as plt"
   ]
  },
  {
   "cell_type": "code",
   "execution_count": 2,
   "id": "5b6e4002",
   "metadata": {
    "tags": []
   },
   "outputs": [
    {
     "data": {
      "text/html": [
       "<div>\n",
       "<style scoped>\n",
       "    .dataframe tbody tr th:only-of-type {\n",
       "        vertical-align: middle;\n",
       "    }\n",
       "\n",
       "    .dataframe tbody tr th {\n",
       "        vertical-align: top;\n",
       "    }\n",
       "\n",
       "    .dataframe thead th {\n",
       "        text-align: right;\n",
       "    }\n",
       "</style>\n",
       "<table border=\"1\" class=\"dataframe\">\n",
       "  <thead>\n",
       "    <tr style=\"text-align: right;\">\n",
       "      <th></th>\n",
       "      <th>ID</th>\n",
       "      <th>name</th>\n",
       "      <th>category</th>\n",
       "      <th>main_category</th>\n",
       "      <th>currency</th>\n",
       "      <th>deadline</th>\n",
       "      <th>goal</th>\n",
       "      <th>launched</th>\n",
       "      <th>pledged</th>\n",
       "      <th>state</th>\n",
       "      <th>backers</th>\n",
       "      <th>country</th>\n",
       "      <th>usd pledged</th>\n",
       "      <th>usd_pledged_real</th>\n",
       "      <th>usd_goal_real</th>\n",
       "    </tr>\n",
       "  </thead>\n",
       "  <tbody>\n",
       "    <tr>\n",
       "      <th>0</th>\n",
       "      <td>1000002330</td>\n",
       "      <td>The Songs of Adelaide &amp; Abullah</td>\n",
       "      <td>Poetry</td>\n",
       "      <td>Publishing</td>\n",
       "      <td>GBP</td>\n",
       "      <td>2015-10-09</td>\n",
       "      <td>1000.0</td>\n",
       "      <td>2015-08-11 12:12:28</td>\n",
       "      <td>0.0</td>\n",
       "      <td>failed</td>\n",
       "      <td>0</td>\n",
       "      <td>GB</td>\n",
       "      <td>0.0</td>\n",
       "      <td>0.0</td>\n",
       "      <td>1533.95</td>\n",
       "    </tr>\n",
       "    <tr>\n",
       "      <th>1</th>\n",
       "      <td>1000003930</td>\n",
       "      <td>Greeting From Earth: ZGAC Arts Capsule For ET</td>\n",
       "      <td>Narrative Film</td>\n",
       "      <td>Film &amp; Video</td>\n",
       "      <td>USD</td>\n",
       "      <td>2017-11-01</td>\n",
       "      <td>30000.0</td>\n",
       "      <td>2017-09-02 04:43:57</td>\n",
       "      <td>2421.0</td>\n",
       "      <td>failed</td>\n",
       "      <td>15</td>\n",
       "      <td>US</td>\n",
       "      <td>100.0</td>\n",
       "      <td>2421.0</td>\n",
       "      <td>30000.00</td>\n",
       "    </tr>\n",
       "    <tr>\n",
       "      <th>2</th>\n",
       "      <td>1000004038</td>\n",
       "      <td>Where is Hank?</td>\n",
       "      <td>Narrative Film</td>\n",
       "      <td>Film &amp; Video</td>\n",
       "      <td>USD</td>\n",
       "      <td>2013-02-26</td>\n",
       "      <td>45000.0</td>\n",
       "      <td>2013-01-12 00:20:50</td>\n",
       "      <td>220.0</td>\n",
       "      <td>failed</td>\n",
       "      <td>3</td>\n",
       "      <td>US</td>\n",
       "      <td>220.0</td>\n",
       "      <td>220.0</td>\n",
       "      <td>45000.00</td>\n",
       "    </tr>\n",
       "    <tr>\n",
       "      <th>3</th>\n",
       "      <td>1000007540</td>\n",
       "      <td>ToshiCapital Rekordz Needs Help to Complete Album</td>\n",
       "      <td>Music</td>\n",
       "      <td>Music</td>\n",
       "      <td>USD</td>\n",
       "      <td>2012-04-16</td>\n",
       "      <td>5000.0</td>\n",
       "      <td>2012-03-17 03:24:11</td>\n",
       "      <td>1.0</td>\n",
       "      <td>failed</td>\n",
       "      <td>1</td>\n",
       "      <td>US</td>\n",
       "      <td>1.0</td>\n",
       "      <td>1.0</td>\n",
       "      <td>5000.00</td>\n",
       "    </tr>\n",
       "    <tr>\n",
       "      <th>4</th>\n",
       "      <td>1000011046</td>\n",
       "      <td>Community Film Project: The Art of Neighborhoo...</td>\n",
       "      <td>Film &amp; Video</td>\n",
       "      <td>Film &amp; Video</td>\n",
       "      <td>USD</td>\n",
       "      <td>2015-08-29</td>\n",
       "      <td>19500.0</td>\n",
       "      <td>2015-07-04 08:35:03</td>\n",
       "      <td>1283.0</td>\n",
       "      <td>canceled</td>\n",
       "      <td>14</td>\n",
       "      <td>US</td>\n",
       "      <td>1283.0</td>\n",
       "      <td>1283.0</td>\n",
       "      <td>19500.00</td>\n",
       "    </tr>\n",
       "  </tbody>\n",
       "</table>\n",
       "</div>"
      ],
      "text/plain": [
       "           ID                                               name  \\\n",
       "0  1000002330                    The Songs of Adelaide & Abullah   \n",
       "1  1000003930      Greeting From Earth: ZGAC Arts Capsule For ET   \n",
       "2  1000004038                                     Where is Hank?   \n",
       "3  1000007540  ToshiCapital Rekordz Needs Help to Complete Album   \n",
       "4  1000011046  Community Film Project: The Art of Neighborhoo...   \n",
       "\n",
       "         category main_category currency    deadline     goal  \\\n",
       "0          Poetry    Publishing      GBP  2015-10-09   1000.0   \n",
       "1  Narrative Film  Film & Video      USD  2017-11-01  30000.0   \n",
       "2  Narrative Film  Film & Video      USD  2013-02-26  45000.0   \n",
       "3           Music         Music      USD  2012-04-16   5000.0   \n",
       "4    Film & Video  Film & Video      USD  2015-08-29  19500.0   \n",
       "\n",
       "              launched  pledged     state  backers country  usd pledged  \\\n",
       "0  2015-08-11 12:12:28      0.0    failed        0      GB          0.0   \n",
       "1  2017-09-02 04:43:57   2421.0    failed       15      US        100.0   \n",
       "2  2013-01-12 00:20:50    220.0    failed        3      US        220.0   \n",
       "3  2012-03-17 03:24:11      1.0    failed        1      US          1.0   \n",
       "4  2015-07-04 08:35:03   1283.0  canceled       14      US       1283.0   \n",
       "\n",
       "   usd_pledged_real  usd_goal_real  \n",
       "0               0.0        1533.95  \n",
       "1            2421.0       30000.00  \n",
       "2             220.0       45000.00  \n",
       "3               1.0        5000.00  \n",
       "4            1283.0       19500.00  "
      ]
     },
     "execution_count": 2,
     "metadata": {},
     "output_type": "execute_result"
    }
   ],
   "source": [
    "df = pd.read_csv('ks-projects-201801.csv')\n",
    "df.head()"
   ]
  },
  {
   "cell_type": "markdown",
   "id": "7aaf6b1a-4884-4773-a2ac-358cbb3f5fc9",
   "metadata": {
    "jp-MarkdownHeadingCollapsed": true,
    "tags": []
   },
   "source": [
    "### 2. Exploration of the dataset"
   ]
  },
  {
   "cell_type": "markdown",
   "id": "85d8d90a-bca0-4964-98e1-7bd5b7644884",
   "metadata": {
    "tags": []
   },
   "source": [
    "#### 1. Let's check if we have empty values."
   ]
  },
  {
   "cell_type": "code",
   "execution_count": 3,
   "id": "8d562cf2-d806-420b-a39c-c47f190413c6",
   "metadata": {
    "tags": []
   },
   "outputs": [
    {
     "data": {
      "text/plain": [
       "ID                     0\n",
       "name                   4\n",
       "category               0\n",
       "main_category          0\n",
       "currency               0\n",
       "deadline               0\n",
       "goal                   0\n",
       "launched               0\n",
       "pledged                0\n",
       "state                  0\n",
       "backers                0\n",
       "country                0\n",
       "usd pledged         3797\n",
       "usd_pledged_real       0\n",
       "usd_goal_real          0\n",
       "dtype: int64"
      ]
     },
     "execution_count": 3,
     "metadata": {},
     "output_type": "execute_result"
    }
   ],
   "source": [
    "df.isnull().sum()"
   ]
  },
  {
   "cell_type": "markdown",
   "id": "6e3d492c-399a-492e-bf26-4971469ff2bd",
   "metadata": {
    "tags": []
   },
   "source": [
    "#### 2. Wrong values"
   ]
  },
  {
   "cell_type": "markdown",
   "id": "e0ce66f5-0e16-40ad-98ef-bced55f7f281",
   "metadata": {},
   "source": [
    "Let's compare the ' usd pledged' column with 'pledged' column for 'USD' currency to see if there are different values. Those values should be the same for the 'USD' currency."
   ]
  },
  {
   "cell_type": "code",
   "execution_count": 4,
   "id": "87028782-6a2b-4716-b091-749b1f868f98",
   "metadata": {},
   "outputs": [
    {
     "data": {
      "text/plain": [
       "False    332080\n",
       "True      46581\n",
       "dtype: int64"
      ]
     },
     "execution_count": 4,
     "metadata": {},
     "output_type": "execute_result"
    }
   ],
   "source": [
    "((df['currency'] == 'USD')&(df['pledged'] != df['usd pledged'])).value_counts()"
   ]
  },
  {
   "cell_type": "markdown",
   "id": "28add386-eccd-49c2-8f8c-59915f135dfb",
   "metadata": {},
   "source": [
    "Which are the different values between these two columns?"
   ]
  },
  {
   "cell_type": "code",
   "execution_count": 5,
   "id": "acf6ddd8-1a57-4c81-b74d-739645b86582",
   "metadata": {
    "tags": []
   },
   "outputs": [
    {
     "data": {
      "text/html": [
       "<div>\n",
       "<style scoped>\n",
       "    .dataframe tbody tr th:only-of-type {\n",
       "        vertical-align: middle;\n",
       "    }\n",
       "\n",
       "    .dataframe tbody tr th {\n",
       "        vertical-align: top;\n",
       "    }\n",
       "\n",
       "    .dataframe thead th {\n",
       "        text-align: right;\n",
       "    }\n",
       "</style>\n",
       "<table border=\"1\" class=\"dataframe\">\n",
       "  <thead>\n",
       "    <tr style=\"text-align: right;\">\n",
       "      <th></th>\n",
       "      <th>ID</th>\n",
       "      <th>name</th>\n",
       "      <th>category</th>\n",
       "      <th>main_category</th>\n",
       "      <th>currency</th>\n",
       "      <th>deadline</th>\n",
       "      <th>goal</th>\n",
       "      <th>launched</th>\n",
       "      <th>pledged</th>\n",
       "      <th>state</th>\n",
       "      <th>backers</th>\n",
       "      <th>country</th>\n",
       "      <th>usd pledged</th>\n",
       "      <th>usd_pledged_real</th>\n",
       "      <th>usd_goal_real</th>\n",
       "    </tr>\n",
       "  </thead>\n",
       "  <tbody>\n",
       "    <tr>\n",
       "      <th>1</th>\n",
       "      <td>1000003930</td>\n",
       "      <td>Greeting From Earth: ZGAC Arts Capsule For ET</td>\n",
       "      <td>Narrative Film</td>\n",
       "      <td>Film &amp; Video</td>\n",
       "      <td>USD</td>\n",
       "      <td>2017-11-01</td>\n",
       "      <td>30000.0</td>\n",
       "      <td>2017-09-02 04:43:57</td>\n",
       "      <td>2421.00</td>\n",
       "      <td>failed</td>\n",
       "      <td>15</td>\n",
       "      <td>US</td>\n",
       "      <td>100.0</td>\n",
       "      <td>2421.00</td>\n",
       "      <td>30000.0</td>\n",
       "    </tr>\n",
       "    <tr>\n",
       "      <th>29</th>\n",
       "      <td>100011318</td>\n",
       "      <td>My Moon - Animated Short Film</td>\n",
       "      <td>Animation</td>\n",
       "      <td>Film &amp; Video</td>\n",
       "      <td>USD</td>\n",
       "      <td>2017-05-03</td>\n",
       "      <td>50000.0</td>\n",
       "      <td>2017-04-03 17:11:33</td>\n",
       "      <td>57577.31</td>\n",
       "      <td>successful</td>\n",
       "      <td>840</td>\n",
       "      <td>US</td>\n",
       "      <td>10120.0</td>\n",
       "      <td>57577.31</td>\n",
       "      <td>50000.0</td>\n",
       "    </tr>\n",
       "    <tr>\n",
       "      <th>31</th>\n",
       "      <td>1000117861</td>\n",
       "      <td>Ledr workbook: one tough journal!</td>\n",
       "      <td>Product Design</td>\n",
       "      <td>Design</td>\n",
       "      <td>USD</td>\n",
       "      <td>2016-10-08</td>\n",
       "      <td>1000.0</td>\n",
       "      <td>2016-09-07 13:14:26</td>\n",
       "      <td>47266.00</td>\n",
       "      <td>successful</td>\n",
       "      <td>549</td>\n",
       "      <td>US</td>\n",
       "      <td>11253.0</td>\n",
       "      <td>47266.00</td>\n",
       "      <td>1000.0</td>\n",
       "    </tr>\n",
       "    <tr>\n",
       "      <th>41</th>\n",
       "      <td>1000153208</td>\n",
       "      <td>Phil Younger - Slow Down (Official Music Video)</td>\n",
       "      <td>Music</td>\n",
       "      <td>Music</td>\n",
       "      <td>USD</td>\n",
       "      <td>2016-12-20</td>\n",
       "      <td>2100.0</td>\n",
       "      <td>2016-12-09 20:27:02</td>\n",
       "      <td>2100.00</td>\n",
       "      <td>successful</td>\n",
       "      <td>34</td>\n",
       "      <td>US</td>\n",
       "      <td>83.0</td>\n",
       "      <td>2100.00</td>\n",
       "      <td>2100.0</td>\n",
       "    </tr>\n",
       "    <tr>\n",
       "      <th>43</th>\n",
       "      <td>1000170964</td>\n",
       "      <td>Penny Bingo Playing Card Game fun for the whol...</td>\n",
       "      <td>Tabletop Games</td>\n",
       "      <td>Games</td>\n",
       "      <td>USD</td>\n",
       "      <td>2017-03-27</td>\n",
       "      <td>1500.0</td>\n",
       "      <td>2017-03-02 04:01:43</td>\n",
       "      <td>856.00</td>\n",
       "      <td>failed</td>\n",
       "      <td>25</td>\n",
       "      <td>US</td>\n",
       "      <td>324.0</td>\n",
       "      <td>856.00</td>\n",
       "      <td>1500.0</td>\n",
       "    </tr>\n",
       "    <tr>\n",
       "      <th>...</th>\n",
       "      <td>...</td>\n",
       "      <td>...</td>\n",
       "      <td>...</td>\n",
       "      <td>...</td>\n",
       "      <td>...</td>\n",
       "      <td>...</td>\n",
       "      <td>...</td>\n",
       "      <td>...</td>\n",
       "      <td>...</td>\n",
       "      <td>...</td>\n",
       "      <td>...</td>\n",
       "      <td>...</td>\n",
       "      <td>...</td>\n",
       "      <td>...</td>\n",
       "      <td>...</td>\n",
       "    </tr>\n",
       "    <tr>\n",
       "      <th>378611</th>\n",
       "      <td>999753943</td>\n",
       "      <td>Parti Bash Mobile App &amp; Technology</td>\n",
       "      <td>Apps</td>\n",
       "      <td>Technology</td>\n",
       "      <td>USD</td>\n",
       "      <td>2017-01-07</td>\n",
       "      <td>25000.0</td>\n",
       "      <td>2016-11-08 23:40:40</td>\n",
       "      <td>120.00</td>\n",
       "      <td>failed</td>\n",
       "      <td>2</td>\n",
       "      <td>US</td>\n",
       "      <td>70.0</td>\n",
       "      <td>120.00</td>\n",
       "      <td>25000.0</td>\n",
       "    </tr>\n",
       "    <tr>\n",
       "      <th>378619</th>\n",
       "      <td>999780798</td>\n",
       "      <td>Green City Times</td>\n",
       "      <td>Web</td>\n",
       "      <td>Journalism</td>\n",
       "      <td>USD</td>\n",
       "      <td>2016-08-28</td>\n",
       "      <td>5000.0</td>\n",
       "      <td>2016-07-29 05:27:43</td>\n",
       "      <td>11.00</td>\n",
       "      <td>failed</td>\n",
       "      <td>3</td>\n",
       "      <td>US</td>\n",
       "      <td>0.0</td>\n",
       "      <td>11.00</td>\n",
       "      <td>5000.0</td>\n",
       "    </tr>\n",
       "    <tr>\n",
       "      <th>378637</th>\n",
       "      <td>999878813</td>\n",
       "      <td>Ways to Look at the Moon</td>\n",
       "      <td>Shorts</td>\n",
       "      <td>Film &amp; Video</td>\n",
       "      <td>USD</td>\n",
       "      <td>2017-10-13</td>\n",
       "      <td>10000.0</td>\n",
       "      <td>2017-08-29 06:57:28</td>\n",
       "      <td>10245.00</td>\n",
       "      <td>successful</td>\n",
       "      <td>123</td>\n",
       "      <td>US</td>\n",
       "      <td>145.0</td>\n",
       "      <td>10245.00</td>\n",
       "      <td>10000.0</td>\n",
       "    </tr>\n",
       "    <tr>\n",
       "      <th>378649</th>\n",
       "      <td>999963618</td>\n",
       "      <td>Colorado International Activism Film Festival</td>\n",
       "      <td>Narrative Film</td>\n",
       "      <td>Film &amp; Video</td>\n",
       "      <td>USD</td>\n",
       "      <td>2017-04-09</td>\n",
       "      <td>500.0</td>\n",
       "      <td>2017-02-08 02:28:44</td>\n",
       "      <td>135.00</td>\n",
       "      <td>failed</td>\n",
       "      <td>6</td>\n",
       "      <td>US</td>\n",
       "      <td>45.0</td>\n",
       "      <td>135.00</td>\n",
       "      <td>500.0</td>\n",
       "    </tr>\n",
       "    <tr>\n",
       "      <th>378654</th>\n",
       "      <td>999975836</td>\n",
       "      <td>Homemade fresh dog food, Cleveland OH</td>\n",
       "      <td>Small Batch</td>\n",
       "      <td>Food</td>\n",
       "      <td>USD</td>\n",
       "      <td>2017-04-19</td>\n",
       "      <td>6500.0</td>\n",
       "      <td>2017-03-20 22:08:22</td>\n",
       "      <td>154.00</td>\n",
       "      <td>failed</td>\n",
       "      <td>4</td>\n",
       "      <td>US</td>\n",
       "      <td>0.0</td>\n",
       "      <td>154.00</td>\n",
       "      <td>6500.0</td>\n",
       "    </tr>\n",
       "  </tbody>\n",
       "</table>\n",
       "<p>46581 rows × 15 columns</p>\n",
       "</div>"
      ],
      "text/plain": [
       "                ID                                               name  \\\n",
       "1       1000003930      Greeting From Earth: ZGAC Arts Capsule For ET   \n",
       "29       100011318                      My Moon - Animated Short Film   \n",
       "31      1000117861                  Ledr workbook: one tough journal!   \n",
       "41      1000153208    Phil Younger - Slow Down (Official Music Video)   \n",
       "43      1000170964  Penny Bingo Playing Card Game fun for the whol...   \n",
       "...            ...                                                ...   \n",
       "378611   999753943                 Parti Bash Mobile App & Technology   \n",
       "378619   999780798                                   Green City Times   \n",
       "378637   999878813                           Ways to Look at the Moon   \n",
       "378649   999963618      Colorado International Activism Film Festival   \n",
       "378654   999975836              Homemade fresh dog food, Cleveland OH   \n",
       "\n",
       "              category main_category currency    deadline     goal  \\\n",
       "1       Narrative Film  Film & Video      USD  2017-11-01  30000.0   \n",
       "29           Animation  Film & Video      USD  2017-05-03  50000.0   \n",
       "31      Product Design        Design      USD  2016-10-08   1000.0   \n",
       "41               Music         Music      USD  2016-12-20   2100.0   \n",
       "43      Tabletop Games         Games      USD  2017-03-27   1500.0   \n",
       "...                ...           ...      ...         ...      ...   \n",
       "378611            Apps    Technology      USD  2017-01-07  25000.0   \n",
       "378619             Web    Journalism      USD  2016-08-28   5000.0   \n",
       "378637          Shorts  Film & Video      USD  2017-10-13  10000.0   \n",
       "378649  Narrative Film  Film & Video      USD  2017-04-09    500.0   \n",
       "378654     Small Batch          Food      USD  2017-04-19   6500.0   \n",
       "\n",
       "                   launched   pledged       state  backers country  \\\n",
       "1       2017-09-02 04:43:57   2421.00      failed       15      US   \n",
       "29      2017-04-03 17:11:33  57577.31  successful      840      US   \n",
       "31      2016-09-07 13:14:26  47266.00  successful      549      US   \n",
       "41      2016-12-09 20:27:02   2100.00  successful       34      US   \n",
       "43      2017-03-02 04:01:43    856.00      failed       25      US   \n",
       "...                     ...       ...         ...      ...     ...   \n",
       "378611  2016-11-08 23:40:40    120.00      failed        2      US   \n",
       "378619  2016-07-29 05:27:43     11.00      failed        3      US   \n",
       "378637  2017-08-29 06:57:28  10245.00  successful      123      US   \n",
       "378649  2017-02-08 02:28:44    135.00      failed        6      US   \n",
       "378654  2017-03-20 22:08:22    154.00      failed        4      US   \n",
       "\n",
       "        usd pledged  usd_pledged_real  usd_goal_real  \n",
       "1             100.0           2421.00        30000.0  \n",
       "29          10120.0          57577.31        50000.0  \n",
       "31          11253.0          47266.00         1000.0  \n",
       "41             83.0           2100.00         2100.0  \n",
       "43            324.0            856.00         1500.0  \n",
       "...             ...               ...            ...  \n",
       "378611         70.0            120.00        25000.0  \n",
       "378619          0.0             11.00         5000.0  \n",
       "378637        145.0          10245.00        10000.0  \n",
       "378649         45.0            135.00          500.0  \n",
       "378654          0.0            154.00         6500.0  \n",
       "\n",
       "[46581 rows x 15 columns]"
      ]
     },
     "execution_count": 5,
     "metadata": {},
     "output_type": "execute_result"
    }
   ],
   "source": [
    "df[(df['currency'] == 'USD')&(df['pledged'] != df['usd pledged'])]"
   ]
  },
  {
   "cell_type": "markdown",
   "id": "c377ed64-78d4-4f43-8ae3-ed246ffca192",
   "metadata": {},
   "source": [
    "Let's compare the 'usd_pledged_real' column with 'pledged' column for 'USD' currency to see if there are different values."
   ]
  },
  {
   "cell_type": "code",
   "execution_count": 6,
   "id": "4d2995f3-f35a-440f-a117-bf754ab083bf",
   "metadata": {},
   "outputs": [
    {
     "data": {
      "text/plain": [
       "False    378661\n",
       "dtype: int64"
      ]
     },
     "execution_count": 6,
     "metadata": {},
     "output_type": "execute_result"
    }
   ],
   "source": [
    "((df['currency'] == 'USD')&(df['pledged'] != df['usd_pledged_real'])).value_counts()"
   ]
  },
  {
   "cell_type": "markdown",
   "id": "4f19d945-6dd1-4949-a1c8-fe55cff05865",
   "metadata": {},
   "source": [
    "Let's compare the 'goal' column with 'usd_goal_real' column for 'usd' currency to see if there are different values."
   ]
  },
  {
   "cell_type": "code",
   "execution_count": 7,
   "id": "afb75a0b-61b2-48a7-89b6-306f99c4c1d4",
   "metadata": {},
   "outputs": [
    {
     "data": {
      "text/plain": [
       "False    378661\n",
       "dtype: int64"
      ]
     },
     "execution_count": 7,
     "metadata": {},
     "output_type": "execute_result"
    }
   ],
   "source": [
    "((df['currency'] == 'USD')&(df['goal'] != df['usd_goal_real'])).value_counts()"
   ]
  },
  {
   "cell_type": "markdown",
   "id": "6f0555b5-73be-4f1a-8124-9b612f7d0826",
   "metadata": {},
   "source": [
    "I can see a weird values for the 'name' column. The value is 'canceled'. Let's go deep into it. I'm going to find values that have the word 'canceled'."
   ]
  },
  {
   "cell_type": "code",
   "execution_count": 8,
   "id": "403dfeea-9328-4ac4-86eb-b6f55c02cb54",
   "metadata": {
    "tags": []
   },
   "outputs": [
    {
     "data": {
      "text/html": [
       "<div>\n",
       "<style scoped>\n",
       "    .dataframe tbody tr th:only-of-type {\n",
       "        vertical-align: middle;\n",
       "    }\n",
       "\n",
       "    .dataframe tbody tr th {\n",
       "        vertical-align: top;\n",
       "    }\n",
       "\n",
       "    .dataframe thead th {\n",
       "        text-align: right;\n",
       "    }\n",
       "</style>\n",
       "<table border=\"1\" class=\"dataframe\">\n",
       "  <thead>\n",
       "    <tr style=\"text-align: right;\">\n",
       "      <th></th>\n",
       "      <th>ID</th>\n",
       "      <th>name</th>\n",
       "      <th>category</th>\n",
       "      <th>main_category</th>\n",
       "      <th>currency</th>\n",
       "      <th>deadline</th>\n",
       "      <th>goal</th>\n",
       "      <th>launched</th>\n",
       "      <th>pledged</th>\n",
       "      <th>state</th>\n",
       "      <th>backers</th>\n",
       "      <th>country</th>\n",
       "      <th>usd pledged</th>\n",
       "      <th>usd_pledged_real</th>\n",
       "      <th>usd_goal_real</th>\n",
       "    </tr>\n",
       "  </thead>\n",
       "  <tbody>\n",
       "    <tr>\n",
       "      <th>9</th>\n",
       "      <td>100004195</td>\n",
       "      <td>STUDIO IN THE SKY - A Documentary Feature Film...</td>\n",
       "      <td>Documentary</td>\n",
       "      <td>Film &amp; Video</td>\n",
       "      <td>USD</td>\n",
       "      <td>2014-08-10</td>\n",
       "      <td>65000.0</td>\n",
       "      <td>2014-07-11 21:55:48</td>\n",
       "      <td>6240.57</td>\n",
       "      <td>canceled</td>\n",
       "      <td>43</td>\n",
       "      <td>US</td>\n",
       "      <td>6240.57</td>\n",
       "      <td>6240.57</td>\n",
       "      <td>65000.00</td>\n",
       "    </tr>\n",
       "    <tr>\n",
       "      <th>68</th>\n",
       "      <td>1000256760</td>\n",
       "      <td>Raise the Woof, expanding the love (Canceled)</td>\n",
       "      <td>Design</td>\n",
       "      <td>Design</td>\n",
       "      <td>CAD</td>\n",
       "      <td>2015-08-07</td>\n",
       "      <td>15000.0</td>\n",
       "      <td>2015-07-08 21:46:53</td>\n",
       "      <td>700.00</td>\n",
       "      <td>canceled</td>\n",
       "      <td>6</td>\n",
       "      <td>CA</td>\n",
       "      <td>553.32</td>\n",
       "      <td>535.09</td>\n",
       "      <td>11466.14</td>\n",
       "    </tr>\n",
       "    <tr>\n",
       "      <th>93</th>\n",
       "      <td>10003650</td>\n",
       "      <td>Glyscian Debut Album Recording (Canceled)</td>\n",
       "      <td>Rock</td>\n",
       "      <td>Music</td>\n",
       "      <td>USD</td>\n",
       "      <td>2012-05-26</td>\n",
       "      <td>15000.0</td>\n",
       "      <td>2012-03-27 04:25:46</td>\n",
       "      <td>151.00</td>\n",
       "      <td>canceled</td>\n",
       "      <td>4</td>\n",
       "      <td>US</td>\n",
       "      <td>151.00</td>\n",
       "      <td>151.00</td>\n",
       "      <td>15000.00</td>\n",
       "    </tr>\n",
       "    <tr>\n",
       "      <th>104</th>\n",
       "      <td>1000427280</td>\n",
       "      <td>Fishtacular - The Ultimate Fishing Tool (Cance...</td>\n",
       "      <td>Apps</td>\n",
       "      <td>Technology</td>\n",
       "      <td>CAD</td>\n",
       "      <td>2015-05-25</td>\n",
       "      <td>50000.0</td>\n",
       "      <td>2015-04-23 20:04:12</td>\n",
       "      <td>11336.00</td>\n",
       "      <td>canceled</td>\n",
       "      <td>19</td>\n",
       "      <td>CA</td>\n",
       "      <td>9240.74</td>\n",
       "      <td>9110.34</td>\n",
       "      <td>40183.24</td>\n",
       "    </tr>\n",
       "    <tr>\n",
       "      <th>201</th>\n",
       "      <td>1000827504</td>\n",
       "      <td>The JANIS JOPLIN Project (Canceled)</td>\n",
       "      <td>Photography</td>\n",
       "      <td>Photography</td>\n",
       "      <td>USD</td>\n",
       "      <td>2012-08-21</td>\n",
       "      <td>11000.0</td>\n",
       "      <td>2012-07-10 02:31:19</td>\n",
       "      <td>75.00</td>\n",
       "      <td>canceled</td>\n",
       "      <td>1</td>\n",
       "      <td>US</td>\n",
       "      <td>75.00</td>\n",
       "      <td>75.00</td>\n",
       "      <td>11000.00</td>\n",
       "    </tr>\n",
       "    <tr>\n",
       "      <th>...</th>\n",
       "      <td>...</td>\n",
       "      <td>...</td>\n",
       "      <td>...</td>\n",
       "      <td>...</td>\n",
       "      <td>...</td>\n",
       "      <td>...</td>\n",
       "      <td>...</td>\n",
       "      <td>...</td>\n",
       "      <td>...</td>\n",
       "      <td>...</td>\n",
       "      <td>...</td>\n",
       "      <td>...</td>\n",
       "      <td>...</td>\n",
       "      <td>...</td>\n",
       "      <td>...</td>\n",
       "    </tr>\n",
       "    <tr>\n",
       "      <th>378640</th>\n",
       "      <td>999893629</td>\n",
       "      <td>Ciridian Helix (Canceled)</td>\n",
       "      <td>Fiction</td>\n",
       "      <td>Publishing</td>\n",
       "      <td>USD</td>\n",
       "      <td>2014-09-11</td>\n",
       "      <td>1000.0</td>\n",
       "      <td>2014-08-08 21:49:31</td>\n",
       "      <td>100.00</td>\n",
       "      <td>canceled</td>\n",
       "      <td>2</td>\n",
       "      <td>US</td>\n",
       "      <td>100.00</td>\n",
       "      <td>100.00</td>\n",
       "      <td>1000.00</td>\n",
       "    </tr>\n",
       "    <tr>\n",
       "      <th>378643</th>\n",
       "      <td>999931480</td>\n",
       "      <td>Google Glass Shield (Canceled)</td>\n",
       "      <td>3D Printing</td>\n",
       "      <td>Technology</td>\n",
       "      <td>USD</td>\n",
       "      <td>2014-05-26</td>\n",
       "      <td>6500.0</td>\n",
       "      <td>2014-05-05 20:22:45</td>\n",
       "      <td>0.00</td>\n",
       "      <td>canceled</td>\n",
       "      <td>0</td>\n",
       "      <td>US</td>\n",
       "      <td>0.00</td>\n",
       "      <td>0.00</td>\n",
       "      <td>6500.00</td>\n",
       "    </tr>\n",
       "    <tr>\n",
       "      <th>378648</th>\n",
       "      <td>999955533</td>\n",
       "      <td>Cards and Chit Network Season 2! (Canceled)</td>\n",
       "      <td>Tabletop Games</td>\n",
       "      <td>Games</td>\n",
       "      <td>USD</td>\n",
       "      <td>2016-02-23</td>\n",
       "      <td>500.0</td>\n",
       "      <td>2016-01-24 16:03:27</td>\n",
       "      <td>121.00</td>\n",
       "      <td>canceled</td>\n",
       "      <td>5</td>\n",
       "      <td>US</td>\n",
       "      <td>121.00</td>\n",
       "      <td>121.00</td>\n",
       "      <td>500.00</td>\n",
       "    </tr>\n",
       "    <tr>\n",
       "      <th>378655</th>\n",
       "      <td>999976312</td>\n",
       "      <td>Angela's Poetry (Canceled)</td>\n",
       "      <td>Poetry</td>\n",
       "      <td>Publishing</td>\n",
       "      <td>CAD</td>\n",
       "      <td>2014-09-20</td>\n",
       "      <td>5500.0</td>\n",
       "      <td>2014-08-06 03:46:07</td>\n",
       "      <td>0.00</td>\n",
       "      <td>canceled</td>\n",
       "      <td>0</td>\n",
       "      <td>CA</td>\n",
       "      <td>0.00</td>\n",
       "      <td>0.00</td>\n",
       "      <td>4949.60</td>\n",
       "    </tr>\n",
       "    <tr>\n",
       "      <th>378656</th>\n",
       "      <td>999976400</td>\n",
       "      <td>ChknTruk Nationwide Charity Drive 2014 (Canceled)</td>\n",
       "      <td>Documentary</td>\n",
       "      <td>Film &amp; Video</td>\n",
       "      <td>USD</td>\n",
       "      <td>2014-10-17</td>\n",
       "      <td>50000.0</td>\n",
       "      <td>2014-09-17 02:35:30</td>\n",
       "      <td>25.00</td>\n",
       "      <td>canceled</td>\n",
       "      <td>1</td>\n",
       "      <td>US</td>\n",
       "      <td>25.00</td>\n",
       "      <td>25.00</td>\n",
       "      <td>50000.00</td>\n",
       "    </tr>\n",
       "  </tbody>\n",
       "</table>\n",
       "<p>23104 rows × 15 columns</p>\n",
       "</div>"
      ],
      "text/plain": [
       "                ID                                               name  \\\n",
       "9        100004195  STUDIO IN THE SKY - A Documentary Feature Film...   \n",
       "68      1000256760      Raise the Woof, expanding the love (Canceled)   \n",
       "93        10003650          Glyscian Debut Album Recording (Canceled)   \n",
       "104     1000427280  Fishtacular - The Ultimate Fishing Tool (Cance...   \n",
       "201     1000827504                The JANIS JOPLIN Project (Canceled)   \n",
       "...            ...                                                ...   \n",
       "378640   999893629                          Ciridian Helix (Canceled)   \n",
       "378643   999931480                     Google Glass Shield (Canceled)   \n",
       "378648   999955533        Cards and Chit Network Season 2! (Canceled)   \n",
       "378655   999976312                         Angela's Poetry (Canceled)   \n",
       "378656   999976400  ChknTruk Nationwide Charity Drive 2014 (Canceled)   \n",
       "\n",
       "              category main_category currency    deadline     goal  \\\n",
       "9          Documentary  Film & Video      USD  2014-08-10  65000.0   \n",
       "68              Design        Design      CAD  2015-08-07  15000.0   \n",
       "93                Rock         Music      USD  2012-05-26  15000.0   \n",
       "104               Apps    Technology      CAD  2015-05-25  50000.0   \n",
       "201        Photography   Photography      USD  2012-08-21  11000.0   \n",
       "...                ...           ...      ...         ...      ...   \n",
       "378640         Fiction    Publishing      USD  2014-09-11   1000.0   \n",
       "378643     3D Printing    Technology      USD  2014-05-26   6500.0   \n",
       "378648  Tabletop Games         Games      USD  2016-02-23    500.0   \n",
       "378655          Poetry    Publishing      CAD  2014-09-20   5500.0   \n",
       "378656     Documentary  Film & Video      USD  2014-10-17  50000.0   \n",
       "\n",
       "                   launched   pledged     state  backers country  usd pledged  \\\n",
       "9       2014-07-11 21:55:48   6240.57  canceled       43      US      6240.57   \n",
       "68      2015-07-08 21:46:53    700.00  canceled        6      CA       553.32   \n",
       "93      2012-03-27 04:25:46    151.00  canceled        4      US       151.00   \n",
       "104     2015-04-23 20:04:12  11336.00  canceled       19      CA      9240.74   \n",
       "201     2012-07-10 02:31:19     75.00  canceled        1      US        75.00   \n",
       "...                     ...       ...       ...      ...     ...          ...   \n",
       "378640  2014-08-08 21:49:31    100.00  canceled        2      US       100.00   \n",
       "378643  2014-05-05 20:22:45      0.00  canceled        0      US         0.00   \n",
       "378648  2016-01-24 16:03:27    121.00  canceled        5      US       121.00   \n",
       "378655  2014-08-06 03:46:07      0.00  canceled        0      CA         0.00   \n",
       "378656  2014-09-17 02:35:30     25.00  canceled        1      US        25.00   \n",
       "\n",
       "        usd_pledged_real  usd_goal_real  \n",
       "9                6240.57       65000.00  \n",
       "68                535.09       11466.14  \n",
       "93                151.00       15000.00  \n",
       "104              9110.34       40183.24  \n",
       "201                75.00       11000.00  \n",
       "...                  ...            ...  \n",
       "378640            100.00        1000.00  \n",
       "378643              0.00        6500.00  \n",
       "378648            121.00         500.00  \n",
       "378655              0.00        4949.60  \n",
       "378656             25.00       50000.00  \n",
       "\n",
       "[23104 rows x 15 columns]"
      ]
     },
     "execution_count": 8,
     "metadata": {},
     "output_type": "execute_result"
    }
   ],
   "source": [
    "df[df['name'].str.contains('Canceled', na=False)]"
   ]
  },
  {
   "cell_type": "markdown",
   "id": "f340b371-e04a-4b61-aad7-fb6d08805853",
   "metadata": {},
   "source": [
    "Let's check for weird values in the 'country' column."
   ]
  },
  {
   "cell_type": "code",
   "execution_count": 9,
   "id": "193db5ca-11f6-411c-918d-0e5d2e161dd7",
   "metadata": {
    "tags": []
   },
   "outputs": [
    {
     "data": {
      "text/plain": [
       "US      292627\n",
       "GB       33672\n",
       "CA       14756\n",
       "AU        7839\n",
       "DE        4171\n",
       "N,0\"      3797\n",
       "FR        2939\n",
       "IT        2878\n",
       "NL        2868\n",
       "ES        2276\n",
       "SE        1757\n",
       "MX        1752\n",
       "NZ        1447\n",
       "DK        1113\n",
       "IE         811\n",
       "CH         761\n",
       "NO         708\n",
       "HK         618\n",
       "BE         617\n",
       "AT         597\n",
       "SG         555\n",
       "LU          62\n",
       "JP          40\n",
       "Name: country, dtype: int64"
      ]
     },
     "execution_count": 9,
     "metadata": {},
     "output_type": "execute_result"
    }
   ],
   "source": [
    "df['country'].value_counts()"
   ]
  },
  {
   "cell_type": "markdown",
   "id": "9f573cd5-d602-410c-a48a-380899a96352",
   "metadata": {
    "tags": []
   },
   "source": [
    "#### 3. Let's check column's types "
   ]
  },
  {
   "cell_type": "code",
   "execution_count": 10,
   "id": "d9a8b385",
   "metadata": {
    "tags": []
   },
   "outputs": [
    {
     "name": "stdout",
     "output_type": "stream",
     "text": [
      "<class 'pandas.core.frame.DataFrame'>\n",
      "RangeIndex: 378661 entries, 0 to 378660\n",
      "Data columns (total 15 columns):\n",
      " #   Column            Non-Null Count   Dtype  \n",
      "---  ------            --------------   -----  \n",
      " 0   ID                378661 non-null  int64  \n",
      " 1   name              378657 non-null  object \n",
      " 2   category          378661 non-null  object \n",
      " 3   main_category     378661 non-null  object \n",
      " 4   currency          378661 non-null  object \n",
      " 5   deadline          378661 non-null  object \n",
      " 6   goal              378661 non-null  float64\n",
      " 7   launched          378661 non-null  object \n",
      " 8   pledged           378661 non-null  float64\n",
      " 9   state             378661 non-null  object \n",
      " 10  backers           378661 non-null  int64  \n",
      " 11  country           378661 non-null  object \n",
      " 12  usd pledged       374864 non-null  float64\n",
      " 13  usd_pledged_real  378661 non-null  float64\n",
      " 14  usd_goal_real     378661 non-null  float64\n",
      "dtypes: float64(5), int64(2), object(8)\n",
      "memory usage: 43.3+ MB\n"
     ]
    }
   ],
   "source": [
    "df.info()"
   ]
  },
  {
   "cell_type": "markdown",
   "id": "afe45bbc-1b48-416a-9c8e-578d6d54ec75",
   "metadata": {
    "tags": []
   },
   "source": [
    "#### 4. Let's check duplicate values"
   ]
  },
  {
   "cell_type": "markdown",
   "id": "1549900f-c551-4039-9102-f07eaf2a3f88",
   "metadata": {},
   "source": [
    "A. Let's check for duplicates values (ID column)"
   ]
  },
  {
   "cell_type": "code",
   "execution_count": 11,
   "id": "7a2c1209-cbf9-439f-a18d-2b390eeb1172",
   "metadata": {
    "tags": []
   },
   "outputs": [
    {
     "data": {
      "text/plain": [
       "False    378661\n",
       "dtype: int64"
      ]
     },
     "execution_count": 11,
     "metadata": {},
     "output_type": "execute_result"
    }
   ],
   "source": [
    "df.duplicated(subset=['ID'], keep='first').value_counts()"
   ]
  },
  {
   "cell_type": "markdown",
   "id": "79cce46a-02ed-4094-a2c5-11ea5bea74a7",
   "metadata": {},
   "source": [
    "B. Let's check for duplicates values (name column)."
   ]
  },
  {
   "cell_type": "code",
   "execution_count": 12,
   "id": "5a1adfa9-bf79-4545-9175-23550f3d9420",
   "metadata": {
    "tags": []
   },
   "outputs": [
    {
     "data": {
      "text/plain": [
       "False    375765\n",
       "True       2896\n",
       "dtype: int64"
      ]
     },
     "execution_count": 12,
     "metadata": {},
     "output_type": "execute_result"
    }
   ],
   "source": [
    "df.duplicated(subset=['name'], keep='first').value_counts()"
   ]
  },
  {
   "cell_type": "markdown",
   "id": "307e349e-2a2a-455e-907c-ee4cb66e8771",
   "metadata": {},
   "source": [
    "Which are those projects?"
   ]
  },
  {
   "cell_type": "code",
   "execution_count": 13,
   "id": "45cc87ef-8f6f-4dac-ad70-5e1ff96b71c4",
   "metadata": {
    "tags": []
   },
   "outputs": [
    {
     "data": {
      "text/html": [
       "<div>\n",
       "<style scoped>\n",
       "    .dataframe tbody tr th:only-of-type {\n",
       "        vertical-align: middle;\n",
       "    }\n",
       "\n",
       "    .dataframe tbody tr th {\n",
       "        vertical-align: top;\n",
       "    }\n",
       "\n",
       "    .dataframe thead th {\n",
       "        text-align: right;\n",
       "    }\n",
       "</style>\n",
       "<table border=\"1\" class=\"dataframe\">\n",
       "  <thead>\n",
       "    <tr style=\"text-align: right;\">\n",
       "      <th></th>\n",
       "      <th>ID</th>\n",
       "      <th>name</th>\n",
       "      <th>category</th>\n",
       "      <th>main_category</th>\n",
       "      <th>currency</th>\n",
       "      <th>deadline</th>\n",
       "      <th>goal</th>\n",
       "      <th>launched</th>\n",
       "      <th>pledged</th>\n",
       "      <th>state</th>\n",
       "      <th>backers</th>\n",
       "      <th>country</th>\n",
       "      <th>usd pledged</th>\n",
       "      <th>usd_pledged_real</th>\n",
       "      <th>usd_goal_real</th>\n",
       "    </tr>\n",
       "  </thead>\n",
       "  <tbody>\n",
       "    <tr>\n",
       "      <th>342920</th>\n",
       "      <td>816998285</td>\n",
       "      <td>\"...The Last shall be first...\" LODB Lifestyle...</td>\n",
       "      <td>Fashion</td>\n",
       "      <td>Fashion</td>\n",
       "      <td>USD</td>\n",
       "      <td>2014-02-09</td>\n",
       "      <td>6500.0</td>\n",
       "      <td>2013-12-19 21:51:50</td>\n",
       "      <td>0.0</td>\n",
       "      <td>canceled</td>\n",
       "      <td>0</td>\n",
       "      <td>US</td>\n",
       "      <td>0.00</td>\n",
       "      <td>0.00</td>\n",
       "      <td>6500.00</td>\n",
       "    </tr>\n",
       "    <tr>\n",
       "      <th>342692</th>\n",
       "      <td>815783250</td>\n",
       "      <td>\"...The Last shall be first...\" LODB Lifestyle...</td>\n",
       "      <td>Fashion</td>\n",
       "      <td>Fashion</td>\n",
       "      <td>USD</td>\n",
       "      <td>2014-03-01</td>\n",
       "      <td>6500.0</td>\n",
       "      <td>2014-01-03 20:39:16</td>\n",
       "      <td>37.0</td>\n",
       "      <td>failed</td>\n",
       "      <td>3</td>\n",
       "      <td>US</td>\n",
       "      <td>37.00</td>\n",
       "      <td>37.00</td>\n",
       "      <td>6500.00</td>\n",
       "    </tr>\n",
       "    <tr>\n",
       "      <th>2024</th>\n",
       "      <td>1010584633</td>\n",
       "      <td>\"A Fresh Start\"</td>\n",
       "      <td>Shorts</td>\n",
       "      <td>Film &amp; Video</td>\n",
       "      <td>USD</td>\n",
       "      <td>2011-09-25</td>\n",
       "      <td>3000.0</td>\n",
       "      <td>2011-08-28 21:27:52</td>\n",
       "      <td>3000.0</td>\n",
       "      <td>successful</td>\n",
       "      <td>24</td>\n",
       "      <td>US</td>\n",
       "      <td>3000.00</td>\n",
       "      <td>3000.00</td>\n",
       "      <td>3000.00</td>\n",
       "    </tr>\n",
       "    <tr>\n",
       "      <th>322671</th>\n",
       "      <td>713417995</td>\n",
       "      <td>\"A Fresh Start\"</td>\n",
       "      <td>Documentary</td>\n",
       "      <td>Film &amp; Video</td>\n",
       "      <td>USD</td>\n",
       "      <td>2013-03-27</td>\n",
       "      <td>5000.0</td>\n",
       "      <td>2013-01-26 03:51:47</td>\n",
       "      <td>1417.0</td>\n",
       "      <td>failed</td>\n",
       "      <td>26</td>\n",
       "      <td>US</td>\n",
       "      <td>1417.00</td>\n",
       "      <td>1417.00</td>\n",
       "      <td>5000.00</td>\n",
       "    </tr>\n",
       "    <tr>\n",
       "      <th>173036</th>\n",
       "      <td>1880084695</td>\n",
       "      <td>\"American Sports Stories\" - An Athletic Quest</td>\n",
       "      <td>Shorts</td>\n",
       "      <td>Film &amp; Video</td>\n",
       "      <td>USD</td>\n",
       "      <td>2015-08-26</td>\n",
       "      <td>100000.0</td>\n",
       "      <td>2015-06-27 02:02:00</td>\n",
       "      <td>100.0</td>\n",
       "      <td>failed</td>\n",
       "      <td>1</td>\n",
       "      <td>US</td>\n",
       "      <td>100.00</td>\n",
       "      <td>100.00</td>\n",
       "      <td>100000.00</td>\n",
       "    </tr>\n",
       "    <tr>\n",
       "      <th>...</th>\n",
       "      <td>...</td>\n",
       "      <td>...</td>\n",
       "      <td>...</td>\n",
       "      <td>...</td>\n",
       "      <td>...</td>\n",
       "      <td>...</td>\n",
       "      <td>...</td>\n",
       "      <td>...</td>\n",
       "      <td>...</td>\n",
       "      <td>...</td>\n",
       "      <td>...</td>\n",
       "      <td>...</td>\n",
       "      <td>...</td>\n",
       "      <td>...</td>\n",
       "      <td>...</td>\n",
       "    </tr>\n",
       "    <tr>\n",
       "      <th>247646</th>\n",
       "      <td>329580179</td>\n",
       "      <td>xxx (Canceled)</td>\n",
       "      <td>Art</td>\n",
       "      <td>Art</td>\n",
       "      <td>USD</td>\n",
       "      <td>2011-09-03</td>\n",
       "      <td>10000.0</td>\n",
       "      <td>2011-06-05 04:54:37</td>\n",
       "      <td>1151.0</td>\n",
       "      <td>canceled</td>\n",
       "      <td>18</td>\n",
       "      <td>US</td>\n",
       "      <td>1151.00</td>\n",
       "      <td>1151.00</td>\n",
       "      <td>10000.00</td>\n",
       "    </tr>\n",
       "    <tr>\n",
       "      <th>166851</th>\n",
       "      <td>1848699072</td>\n",
       "      <td>NaN</td>\n",
       "      <td>Narrative Film</td>\n",
       "      <td>Film &amp; Video</td>\n",
       "      <td>USD</td>\n",
       "      <td>2012-02-29</td>\n",
       "      <td>200000.0</td>\n",
       "      <td>2012-01-01 12:35:31</td>\n",
       "      <td>100.0</td>\n",
       "      <td>failed</td>\n",
       "      <td>1</td>\n",
       "      <td>US</td>\n",
       "      <td>100.00</td>\n",
       "      <td>100.00</td>\n",
       "      <td>200000.00</td>\n",
       "    </tr>\n",
       "    <tr>\n",
       "      <th>307234</th>\n",
       "      <td>634871725</td>\n",
       "      <td>NaN</td>\n",
       "      <td>Video Games</td>\n",
       "      <td>Games</td>\n",
       "      <td>GBP</td>\n",
       "      <td>2013-01-06</td>\n",
       "      <td>2000.0</td>\n",
       "      <td>2012-12-19 23:57:48</td>\n",
       "      <td>196.0</td>\n",
       "      <td>failed</td>\n",
       "      <td>12</td>\n",
       "      <td>GB</td>\n",
       "      <td>317.73</td>\n",
       "      <td>316.05</td>\n",
       "      <td>3224.97</td>\n",
       "    </tr>\n",
       "    <tr>\n",
       "      <th>309991</th>\n",
       "      <td>648853978</td>\n",
       "      <td>NaN</td>\n",
       "      <td>Product Design</td>\n",
       "      <td>Design</td>\n",
       "      <td>USD</td>\n",
       "      <td>2016-07-18</td>\n",
       "      <td>2500.0</td>\n",
       "      <td>2016-06-18 05:01:47</td>\n",
       "      <td>0.0</td>\n",
       "      <td>suspended</td>\n",
       "      <td>0</td>\n",
       "      <td>US</td>\n",
       "      <td>0.00</td>\n",
       "      <td>0.00</td>\n",
       "      <td>2500.00</td>\n",
       "    </tr>\n",
       "    <tr>\n",
       "      <th>338931</th>\n",
       "      <td>796533179</td>\n",
       "      <td>NaN</td>\n",
       "      <td>Painting</td>\n",
       "      <td>Art</td>\n",
       "      <td>USD</td>\n",
       "      <td>2011-12-05</td>\n",
       "      <td>35000.0</td>\n",
       "      <td>2011-11-06 23:55:55</td>\n",
       "      <td>220.0</td>\n",
       "      <td>failed</td>\n",
       "      <td>5</td>\n",
       "      <td>US</td>\n",
       "      <td>220.00</td>\n",
       "      <td>220.00</td>\n",
       "      <td>35000.00</td>\n",
       "    </tr>\n",
       "  </tbody>\n",
       "</table>\n",
       "<p>5125 rows × 15 columns</p>\n",
       "</div>"
      ],
      "text/plain": [
       "                ID                                               name  \\\n",
       "342920   816998285  \"...The Last shall be first...\" LODB Lifestyle...   \n",
       "342692   815783250  \"...The Last shall be first...\" LODB Lifestyle...   \n",
       "2024    1010584633                                    \"A Fresh Start\"   \n",
       "322671   713417995                                    \"A Fresh Start\"   \n",
       "173036  1880084695      \"American Sports Stories\" - An Athletic Quest   \n",
       "...            ...                                                ...   \n",
       "247646   329580179                                     xxx (Canceled)   \n",
       "166851  1848699072                                                NaN   \n",
       "307234   634871725                                                NaN   \n",
       "309991   648853978                                                NaN   \n",
       "338931   796533179                                                NaN   \n",
       "\n",
       "              category main_category currency    deadline      goal  \\\n",
       "342920         Fashion       Fashion      USD  2014-02-09    6500.0   \n",
       "342692         Fashion       Fashion      USD  2014-03-01    6500.0   \n",
       "2024            Shorts  Film & Video      USD  2011-09-25    3000.0   \n",
       "322671     Documentary  Film & Video      USD  2013-03-27    5000.0   \n",
       "173036          Shorts  Film & Video      USD  2015-08-26  100000.0   \n",
       "...                ...           ...      ...         ...       ...   \n",
       "247646             Art           Art      USD  2011-09-03   10000.0   \n",
       "166851  Narrative Film  Film & Video      USD  2012-02-29  200000.0   \n",
       "307234     Video Games         Games      GBP  2013-01-06    2000.0   \n",
       "309991  Product Design        Design      USD  2016-07-18    2500.0   \n",
       "338931        Painting           Art      USD  2011-12-05   35000.0   \n",
       "\n",
       "                   launched  pledged       state  backers country  \\\n",
       "342920  2013-12-19 21:51:50      0.0    canceled        0      US   \n",
       "342692  2014-01-03 20:39:16     37.0      failed        3      US   \n",
       "2024    2011-08-28 21:27:52   3000.0  successful       24      US   \n",
       "322671  2013-01-26 03:51:47   1417.0      failed       26      US   \n",
       "173036  2015-06-27 02:02:00    100.0      failed        1      US   \n",
       "...                     ...      ...         ...      ...     ...   \n",
       "247646  2011-06-05 04:54:37   1151.0    canceled       18      US   \n",
       "166851  2012-01-01 12:35:31    100.0      failed        1      US   \n",
       "307234  2012-12-19 23:57:48    196.0      failed       12      GB   \n",
       "309991  2016-06-18 05:01:47      0.0   suspended        0      US   \n",
       "338931  2011-11-06 23:55:55    220.0      failed        5      US   \n",
       "\n",
       "        usd pledged  usd_pledged_real  usd_goal_real  \n",
       "342920         0.00              0.00        6500.00  \n",
       "342692        37.00             37.00        6500.00  \n",
       "2024        3000.00           3000.00        3000.00  \n",
       "322671      1417.00           1417.00        5000.00  \n",
       "173036       100.00            100.00      100000.00  \n",
       "...             ...               ...            ...  \n",
       "247646      1151.00           1151.00       10000.00  \n",
       "166851       100.00            100.00      200000.00  \n",
       "307234       317.73            316.05        3224.97  \n",
       "309991         0.00              0.00        2500.00  \n",
       "338931       220.00            220.00       35000.00  \n",
       "\n",
       "[5125 rows x 15 columns]"
      ]
     },
     "execution_count": 13,
     "metadata": {},
     "output_type": "execute_result"
    }
   ],
   "source": [
    "df[df.duplicated(subset=['name'], keep=False)].sort_values(by=['name'])"
   ]
  },
  {
   "cell_type": "markdown",
   "id": "97dc99d4-42ed-4332-be74-35a141591f49",
   "metadata": {},
   "source": [
    "C. Let's check for duplicates values by name, category and main_category."
   ]
  },
  {
   "cell_type": "code",
   "execution_count": 14,
   "id": "82258f74-f9e8-4e0b-9852-e657fe5f8a35",
   "metadata": {
    "tags": []
   },
   "outputs": [
    {
     "data": {
      "text/plain": [
       "False    377819\n",
       "True        842\n",
       "dtype: int64"
      ]
     },
     "execution_count": 14,
     "metadata": {},
     "output_type": "execute_result"
    }
   ],
   "source": [
    "df.duplicated(subset=['name', 'category', 'main_category'], keep='first').value_counts()"
   ]
  },
  {
   "cell_type": "markdown",
   "id": "c4416117-0d5b-4de7-96c7-fff615b9df11",
   "metadata": {},
   "source": [
    "Which are those projects?"
   ]
  },
  {
   "cell_type": "code",
   "execution_count": 15,
   "id": "95a8f1a8-f952-4ac2-aa5b-545dbb499559",
   "metadata": {
    "tags": []
   },
   "outputs": [
    {
     "data": {
      "text/html": [
       "<div>\n",
       "<style scoped>\n",
       "    .dataframe tbody tr th:only-of-type {\n",
       "        vertical-align: middle;\n",
       "    }\n",
       "\n",
       "    .dataframe tbody tr th {\n",
       "        vertical-align: top;\n",
       "    }\n",
       "\n",
       "    .dataframe thead th {\n",
       "        text-align: right;\n",
       "    }\n",
       "</style>\n",
       "<table border=\"1\" class=\"dataframe\">\n",
       "  <thead>\n",
       "    <tr style=\"text-align: right;\">\n",
       "      <th></th>\n",
       "      <th>ID</th>\n",
       "      <th>name</th>\n",
       "      <th>category</th>\n",
       "      <th>main_category</th>\n",
       "      <th>currency</th>\n",
       "      <th>deadline</th>\n",
       "      <th>goal</th>\n",
       "      <th>launched</th>\n",
       "      <th>pledged</th>\n",
       "      <th>state</th>\n",
       "      <th>backers</th>\n",
       "      <th>country</th>\n",
       "      <th>usd pledged</th>\n",
       "      <th>usd_pledged_real</th>\n",
       "      <th>usd_goal_real</th>\n",
       "    </tr>\n",
       "  </thead>\n",
       "  <tbody>\n",
       "    <tr>\n",
       "      <th>342692</th>\n",
       "      <td>815783250</td>\n",
       "      <td>\"...The Last shall be first...\" LODB Lifestyle...</td>\n",
       "      <td>Fashion</td>\n",
       "      <td>Fashion</td>\n",
       "      <td>USD</td>\n",
       "      <td>2014-03-01</td>\n",
       "      <td>6500.0</td>\n",
       "      <td>2014-01-03 20:39:16</td>\n",
       "      <td>37.0</td>\n",
       "      <td>failed</td>\n",
       "      <td>3</td>\n",
       "      <td>US</td>\n",
       "      <td>37.00</td>\n",
       "      <td>37.00</td>\n",
       "      <td>6500.00</td>\n",
       "    </tr>\n",
       "    <tr>\n",
       "      <th>342920</th>\n",
       "      <td>816998285</td>\n",
       "      <td>\"...The Last shall be first...\" LODB Lifestyle...</td>\n",
       "      <td>Fashion</td>\n",
       "      <td>Fashion</td>\n",
       "      <td>USD</td>\n",
       "      <td>2014-02-09</td>\n",
       "      <td>6500.0</td>\n",
       "      <td>2013-12-19 21:51:50</td>\n",
       "      <td>0.0</td>\n",
       "      <td>canceled</td>\n",
       "      <td>0</td>\n",
       "      <td>US</td>\n",
       "      <td>0.00</td>\n",
       "      <td>0.00</td>\n",
       "      <td>6500.00</td>\n",
       "    </tr>\n",
       "    <tr>\n",
       "      <th>81299</th>\n",
       "      <td>1413519345</td>\n",
       "      <td>\"Cut From the Illest Cloth\" - The Brand New Fu...</td>\n",
       "      <td>Hip-Hop</td>\n",
       "      <td>Music</td>\n",
       "      <td>USD</td>\n",
       "      <td>2014-03-26</td>\n",
       "      <td>9000.0</td>\n",
       "      <td>2014-03-01 19:32:15</td>\n",
       "      <td>1010.0</td>\n",
       "      <td>canceled</td>\n",
       "      <td>25</td>\n",
       "      <td>US</td>\n",
       "      <td>1010.00</td>\n",
       "      <td>1010.00</td>\n",
       "      <td>9000.00</td>\n",
       "    </tr>\n",
       "    <tr>\n",
       "      <th>125533</th>\n",
       "      <td>1637334549</td>\n",
       "      <td>\"Cut From the Illest Cloth\" - The Brand New Fu...</td>\n",
       "      <td>Hip-Hop</td>\n",
       "      <td>Music</td>\n",
       "      <td>GBP</td>\n",
       "      <td>2014-03-04</td>\n",
       "      <td>14000.0</td>\n",
       "      <td>2014-02-02 16:00:57</td>\n",
       "      <td>225.0</td>\n",
       "      <td>canceled</td>\n",
       "      <td>7</td>\n",
       "      <td>GB</td>\n",
       "      <td>369.89</td>\n",
       "      <td>377.33</td>\n",
       "      <td>23478.12</td>\n",
       "    </tr>\n",
       "    <tr>\n",
       "      <th>4560</th>\n",
       "      <td>1023301684</td>\n",
       "      <td>\"Pulse\"- a new album from \"Blind Focus\" to sup...</td>\n",
       "      <td>Music</td>\n",
       "      <td>Music</td>\n",
       "      <td>CAD</td>\n",
       "      <td>2016-12-17</td>\n",
       "      <td>4000.0</td>\n",
       "      <td>2016-11-17 09:45:59</td>\n",
       "      <td>0.0</td>\n",
       "      <td>canceled</td>\n",
       "      <td>0</td>\n",
       "      <td>CA</td>\n",
       "      <td>0.00</td>\n",
       "      <td>0.00</td>\n",
       "      <td>2959.89</td>\n",
       "    </tr>\n",
       "    <tr>\n",
       "      <th>...</th>\n",
       "      <td>...</td>\n",
       "      <td>...</td>\n",
       "      <td>...</td>\n",
       "      <td>...</td>\n",
       "      <td>...</td>\n",
       "      <td>...</td>\n",
       "      <td>...</td>\n",
       "      <td>...</td>\n",
       "      <td>...</td>\n",
       "      <td>...</td>\n",
       "      <td>...</td>\n",
       "      <td>...</td>\n",
       "      <td>...</td>\n",
       "      <td>...</td>\n",
       "      <td>...</td>\n",
       "    </tr>\n",
       "    <tr>\n",
       "      <th>225629</th>\n",
       "      <td>216839969</td>\n",
       "      <td>smartLED</td>\n",
       "      <td>Hardware</td>\n",
       "      <td>Technology</td>\n",
       "      <td>EUR</td>\n",
       "      <td>2017-12-28</td>\n",
       "      <td>10000.0</td>\n",
       "      <td>2017-11-28 09:22:51</td>\n",
       "      <td>66.0</td>\n",
       "      <td>canceled</td>\n",
       "      <td>6</td>\n",
       "      <td>FR</td>\n",
       "      <td>78.70</td>\n",
       "      <td>79.15</td>\n",
       "      <td>11993.00</td>\n",
       "    </tr>\n",
       "    <tr>\n",
       "      <th>96947</th>\n",
       "      <td>1492548024</td>\n",
       "      <td>weSTAND: A Stand With a Mission</td>\n",
       "      <td>Gadgets</td>\n",
       "      <td>Technology</td>\n",
       "      <td>USD</td>\n",
       "      <td>2016-01-25</td>\n",
       "      <td>200.0</td>\n",
       "      <td>2016-01-04 17:33:28</td>\n",
       "      <td>1728.6</td>\n",
       "      <td>successful</td>\n",
       "      <td>58</td>\n",
       "      <td>US</td>\n",
       "      <td>1728.60</td>\n",
       "      <td>1728.60</td>\n",
       "      <td>200.00</td>\n",
       "    </tr>\n",
       "    <tr>\n",
       "      <th>169728</th>\n",
       "      <td>1863478885</td>\n",
       "      <td>weSTAND: A Stand With a Mission</td>\n",
       "      <td>Gadgets</td>\n",
       "      <td>Technology</td>\n",
       "      <td>USD</td>\n",
       "      <td>2015-10-18</td>\n",
       "      <td>7000.0</td>\n",
       "      <td>2015-09-18 21:39:35</td>\n",
       "      <td>530.0</td>\n",
       "      <td>failed</td>\n",
       "      <td>19</td>\n",
       "      <td>US</td>\n",
       "      <td>530.00</td>\n",
       "      <td>530.00</td>\n",
       "      <td>7000.00</td>\n",
       "    </tr>\n",
       "    <tr>\n",
       "      <th>120494</th>\n",
       "      <td>1612055887</td>\n",
       "      <td>x (Canceled)</td>\n",
       "      <td>Fiction</td>\n",
       "      <td>Publishing</td>\n",
       "      <td>USD</td>\n",
       "      <td>2012-02-22</td>\n",
       "      <td>15000.0</td>\n",
       "      <td>2012-01-12 01:07:01</td>\n",
       "      <td>0.0</td>\n",
       "      <td>canceled</td>\n",
       "      <td>0</td>\n",
       "      <td>US</td>\n",
       "      <td>0.00</td>\n",
       "      <td>0.00</td>\n",
       "      <td>15000.00</td>\n",
       "    </tr>\n",
       "    <tr>\n",
       "      <th>375434</th>\n",
       "      <td>983316237</td>\n",
       "      <td>x (Canceled)</td>\n",
       "      <td>Fiction</td>\n",
       "      <td>Publishing</td>\n",
       "      <td>USD</td>\n",
       "      <td>2012-07-24</td>\n",
       "      <td>10000.0</td>\n",
       "      <td>2012-06-26 22:15:19</td>\n",
       "      <td>0.0</td>\n",
       "      <td>canceled</td>\n",
       "      <td>0</td>\n",
       "      <td>US</td>\n",
       "      <td>0.00</td>\n",
       "      <td>0.00</td>\n",
       "      <td>10000.00</td>\n",
       "    </tr>\n",
       "  </tbody>\n",
       "</table>\n",
       "<p>1585 rows × 15 columns</p>\n",
       "</div>"
      ],
      "text/plain": [
       "                ID                                               name  \\\n",
       "342692   815783250  \"...The Last shall be first...\" LODB Lifestyle...   \n",
       "342920   816998285  \"...The Last shall be first...\" LODB Lifestyle...   \n",
       "81299   1413519345  \"Cut From the Illest Cloth\" - The Brand New Fu...   \n",
       "125533  1637334549  \"Cut From the Illest Cloth\" - The Brand New Fu...   \n",
       "4560    1023301684  \"Pulse\"- a new album from \"Blind Focus\" to sup...   \n",
       "...            ...                                                ...   \n",
       "225629   216839969                                           smartLED   \n",
       "96947   1492548024                    weSTAND: A Stand With a Mission   \n",
       "169728  1863478885                    weSTAND: A Stand With a Mission   \n",
       "120494  1612055887                                       x (Canceled)   \n",
       "375434   983316237                                       x (Canceled)   \n",
       "\n",
       "        category main_category currency    deadline     goal  \\\n",
       "342692   Fashion       Fashion      USD  2014-03-01   6500.0   \n",
       "342920   Fashion       Fashion      USD  2014-02-09   6500.0   \n",
       "81299    Hip-Hop         Music      USD  2014-03-26   9000.0   \n",
       "125533   Hip-Hop         Music      GBP  2014-03-04  14000.0   \n",
       "4560       Music         Music      CAD  2016-12-17   4000.0   \n",
       "...          ...           ...      ...         ...      ...   \n",
       "225629  Hardware    Technology      EUR  2017-12-28  10000.0   \n",
       "96947    Gadgets    Technology      USD  2016-01-25    200.0   \n",
       "169728   Gadgets    Technology      USD  2015-10-18   7000.0   \n",
       "120494   Fiction    Publishing      USD  2012-02-22  15000.0   \n",
       "375434   Fiction    Publishing      USD  2012-07-24  10000.0   \n",
       "\n",
       "                   launched  pledged       state  backers country  \\\n",
       "342692  2014-01-03 20:39:16     37.0      failed        3      US   \n",
       "342920  2013-12-19 21:51:50      0.0    canceled        0      US   \n",
       "81299   2014-03-01 19:32:15   1010.0    canceled       25      US   \n",
       "125533  2014-02-02 16:00:57    225.0    canceled        7      GB   \n",
       "4560    2016-11-17 09:45:59      0.0    canceled        0      CA   \n",
       "...                     ...      ...         ...      ...     ...   \n",
       "225629  2017-11-28 09:22:51     66.0    canceled        6      FR   \n",
       "96947   2016-01-04 17:33:28   1728.6  successful       58      US   \n",
       "169728  2015-09-18 21:39:35    530.0      failed       19      US   \n",
       "120494  2012-01-12 01:07:01      0.0    canceled        0      US   \n",
       "375434  2012-06-26 22:15:19      0.0    canceled        0      US   \n",
       "\n",
       "        usd pledged  usd_pledged_real  usd_goal_real  \n",
       "342692        37.00             37.00        6500.00  \n",
       "342920         0.00              0.00        6500.00  \n",
       "81299       1010.00           1010.00        9000.00  \n",
       "125533       369.89            377.33       23478.12  \n",
       "4560           0.00              0.00        2959.89  \n",
       "...             ...               ...            ...  \n",
       "225629        78.70             79.15       11993.00  \n",
       "96947       1728.60           1728.60         200.00  \n",
       "169728       530.00            530.00        7000.00  \n",
       "120494         0.00              0.00       15000.00  \n",
       "375434         0.00              0.00       10000.00  \n",
       "\n",
       "[1585 rows x 15 columns]"
      ]
     },
     "execution_count": 15,
     "metadata": {},
     "output_type": "execute_result"
    }
   ],
   "source": [
    "df[df.duplicated(subset=['name', 'category', 'main_category'], keep=False)].sort_values(by=['name', 'category', 'main_category'])"
   ]
  },
  {
   "cell_type": "markdown",
   "id": "169c6aa0-1590-42cc-a22f-a1200730c452",
   "metadata": {},
   "source": [
    "D. Let's check for duplicates values by name and category."
   ]
  },
  {
   "cell_type": "code",
   "execution_count": 16,
   "id": "48dc7d96-cc9f-446c-8468-7ae72749388b",
   "metadata": {},
   "outputs": [
    {
     "data": {
      "text/plain": [
       "False    377819\n",
       "True        842\n",
       "dtype: int64"
      ]
     },
     "execution_count": 16,
     "metadata": {},
     "output_type": "execute_result"
    }
   ],
   "source": [
    "df.duplicated(subset=['name', 'category'], keep='first').value_counts()"
   ]
  },
  {
   "cell_type": "markdown",
   "id": "86ec0a87-3c72-47ee-a305-654a976405a0",
   "metadata": {},
   "source": [
    "E. Let's check for duplicates values by name and main_category."
   ]
  },
  {
   "cell_type": "code",
   "execution_count": 17,
   "id": "34d3420b-7ac4-43fc-a0b0-3dd790ff699f",
   "metadata": {},
   "outputs": [
    {
     "data": {
      "text/plain": [
       "False    377040\n",
       "True       1621\n",
       "dtype: int64"
      ]
     },
     "execution_count": 17,
     "metadata": {},
     "output_type": "execute_result"
    }
   ],
   "source": [
    "df.duplicated(subset=['name', 'main_category'], keep='first').value_counts()"
   ]
  },
  {
   "cell_type": "markdown",
   "id": "47afba85-3205-4893-8e7b-fd5c19f15114",
   "metadata": {
    "tags": []
   },
   "source": [
    "#### Conclusions - Exploration of the dataset\n",
    "\n",
    "1. NaN values\n",
    "- usd pledged column has 3797 NaN values.\n",
    "- name column has 4 NaN values.\n",
    "\n",
    "2. Wrong values\n",
    "- 'usd pledged' column has 46581 different values compared with the 'pledge' column for 'usd' currency.\n",
    "- 'usd_pledged_real' is ok.\n",
    "- 'usd_goal_real' and 'goal' columns are good.\n",
    "- I can see there are a weird values for the 'name' column. The values are 'canceled' and 'x'. Some of these values affect the results of a couple of things that I want to do because it will not allow me to differentiate the name of the project, I can't differentiate if these projects were launched one or more than one time, so, when I answer those questions after, I will show the percentage of projects which are not possible to differentiate, this will allow us to see what is the measure of our blind point. \n",
    "- I found in the 'country' column a wrong value (N,0\").\n",
    "\n",
    "3. Dataframe's types \n",
    "- Launched and deadline columns aren't date type.\n",
    "\n",
    "4. Duplicates\n",
    "- A. There is no duplicate ID values.\n",
    "- B. There are 2896 duplicate names.\n",
    "- C. There are 842 duplicate values based on name, category and main_category values.\n",
    "- D. There are 842 duplicate values based on name and category columns.\n",
    "- E. There are 1621 duplicate values based on name and main_category columns.\n",
    "- The above data means, there are projects launched more than once that were launched with different categories or main categories than the first time.\n",
    "\n",
    "- My conclusion is there are no duplicate values, just there are projects which were launched more than one time, ones were canceled, and were launched again, and others projects repeat after some years with the same project name. I'm going to keep this values to show some analysis. "
   ]
  },
  {
   "cell_type": "markdown",
   "id": "bfe4b354-a499-4d45-b2c7-135dc0b3f48d",
   "metadata": {
    "jp-MarkdownHeadingCollapsed": true,
    "tags": []
   },
   "source": [
    "### 3. Data Cleaning"
   ]
  },
  {
   "cell_type": "markdown",
   "id": "34e4279f-b401-4aa9-9750-d5783ac5f83d",
   "metadata": {},
   "source": [
    "1. NaN values. Fill name column. \n",
    "2. What should I do with the 'usd pledged' column with 3797 NaN values and 46581 wrong values?\n",
    "3. What should I do with the 'canceled' and 'x' words in the 'name' column?\n",
    "4. Change 'N,0\"' values.\n",
    "5. Change data types (launched and deadline columns).\n",
    "6. I'm going to to extract the 'canceled' word from some values to let those names clean, the values which have only the 'caceled'"
   ]
  },
  {
   "cell_type": "markdown",
   "id": "742a09bc-0515-4a7b-b777-1b2b74fb2421",
   "metadata": {
    "jp-MarkdownHeadingCollapsed": true,
    "tags": []
   },
   "source": [
    "#### 1. NaN values - Fill name column."
   ]
  },
  {
   "cell_type": "markdown",
   "id": "44ba8310-361c-4610-a849-0d96128313ff",
   "metadata": {},
   "source": [
    "Lets check which rows of the 'name' column are empty."
   ]
  },
  {
   "cell_type": "code",
   "execution_count": 18,
   "id": "cc91d3b7-092b-4e98-8cb4-f3984f1e5056",
   "metadata": {
    "tags": []
   },
   "outputs": [
    {
     "data": {
      "text/html": [
       "<div>\n",
       "<style scoped>\n",
       "    .dataframe tbody tr th:only-of-type {\n",
       "        vertical-align: middle;\n",
       "    }\n",
       "\n",
       "    .dataframe tbody tr th {\n",
       "        vertical-align: top;\n",
       "    }\n",
       "\n",
       "    .dataframe thead th {\n",
       "        text-align: right;\n",
       "    }\n",
       "</style>\n",
       "<table border=\"1\" class=\"dataframe\">\n",
       "  <thead>\n",
       "    <tr style=\"text-align: right;\">\n",
       "      <th></th>\n",
       "      <th>ID</th>\n",
       "      <th>name</th>\n",
       "      <th>category</th>\n",
       "      <th>main_category</th>\n",
       "      <th>currency</th>\n",
       "      <th>deadline</th>\n",
       "      <th>goal</th>\n",
       "      <th>launched</th>\n",
       "      <th>pledged</th>\n",
       "      <th>state</th>\n",
       "      <th>backers</th>\n",
       "      <th>country</th>\n",
       "      <th>usd pledged</th>\n",
       "      <th>usd_pledged_real</th>\n",
       "      <th>usd_goal_real</th>\n",
       "    </tr>\n",
       "  </thead>\n",
       "  <tbody>\n",
       "    <tr>\n",
       "      <th>166851</th>\n",
       "      <td>1848699072</td>\n",
       "      <td>NaN</td>\n",
       "      <td>Narrative Film</td>\n",
       "      <td>Film &amp; Video</td>\n",
       "      <td>USD</td>\n",
       "      <td>2012-02-29</td>\n",
       "      <td>200000.0</td>\n",
       "      <td>2012-01-01 12:35:31</td>\n",
       "      <td>100.0</td>\n",
       "      <td>failed</td>\n",
       "      <td>1</td>\n",
       "      <td>US</td>\n",
       "      <td>100.00</td>\n",
       "      <td>100.00</td>\n",
       "      <td>200000.00</td>\n",
       "    </tr>\n",
       "    <tr>\n",
       "      <th>307234</th>\n",
       "      <td>634871725</td>\n",
       "      <td>NaN</td>\n",
       "      <td>Video Games</td>\n",
       "      <td>Games</td>\n",
       "      <td>GBP</td>\n",
       "      <td>2013-01-06</td>\n",
       "      <td>2000.0</td>\n",
       "      <td>2012-12-19 23:57:48</td>\n",
       "      <td>196.0</td>\n",
       "      <td>failed</td>\n",
       "      <td>12</td>\n",
       "      <td>GB</td>\n",
       "      <td>317.73</td>\n",
       "      <td>316.05</td>\n",
       "      <td>3224.97</td>\n",
       "    </tr>\n",
       "    <tr>\n",
       "      <th>309991</th>\n",
       "      <td>648853978</td>\n",
       "      <td>NaN</td>\n",
       "      <td>Product Design</td>\n",
       "      <td>Design</td>\n",
       "      <td>USD</td>\n",
       "      <td>2016-07-18</td>\n",
       "      <td>2500.0</td>\n",
       "      <td>2016-06-18 05:01:47</td>\n",
       "      <td>0.0</td>\n",
       "      <td>suspended</td>\n",
       "      <td>0</td>\n",
       "      <td>US</td>\n",
       "      <td>0.00</td>\n",
       "      <td>0.00</td>\n",
       "      <td>2500.00</td>\n",
       "    </tr>\n",
       "    <tr>\n",
       "      <th>338931</th>\n",
       "      <td>796533179</td>\n",
       "      <td>NaN</td>\n",
       "      <td>Painting</td>\n",
       "      <td>Art</td>\n",
       "      <td>USD</td>\n",
       "      <td>2011-12-05</td>\n",
       "      <td>35000.0</td>\n",
       "      <td>2011-11-06 23:55:55</td>\n",
       "      <td>220.0</td>\n",
       "      <td>failed</td>\n",
       "      <td>5</td>\n",
       "      <td>US</td>\n",
       "      <td>220.00</td>\n",
       "      <td>220.00</td>\n",
       "      <td>35000.00</td>\n",
       "    </tr>\n",
       "  </tbody>\n",
       "</table>\n",
       "</div>"
      ],
      "text/plain": [
       "                ID name        category main_category currency    deadline  \\\n",
       "166851  1848699072  NaN  Narrative Film  Film & Video      USD  2012-02-29   \n",
       "307234   634871725  NaN     Video Games         Games      GBP  2013-01-06   \n",
       "309991   648853978  NaN  Product Design        Design      USD  2016-07-18   \n",
       "338931   796533179  NaN        Painting           Art      USD  2011-12-05   \n",
       "\n",
       "            goal             launched  pledged      state  backers country  \\\n",
       "166851  200000.0  2012-01-01 12:35:31    100.0     failed        1      US   \n",
       "307234    2000.0  2012-12-19 23:57:48    196.0     failed       12      GB   \n",
       "309991    2500.0  2016-06-18 05:01:47      0.0  suspended        0      US   \n",
       "338931   35000.0  2011-11-06 23:55:55    220.0     failed        5      US   \n",
       "\n",
       "        usd pledged  usd_pledged_real  usd_goal_real  \n",
       "166851       100.00            100.00      200000.00  \n",
       "307234       317.73            316.05        3224.97  \n",
       "309991         0.00              0.00        2500.00  \n",
       "338931       220.00            220.00       35000.00  "
      ]
     },
     "execution_count": 18,
     "metadata": {},
     "output_type": "execute_result"
    }
   ],
   "source": [
    "df[df['name'].isnull()]"
   ]
  },
  {
   "cell_type": "markdown",
   "id": "713f9e26-ab6a-48de-b898-13f8942f70af",
   "metadata": {},
   "source": [
    "Let's correct the empty names. I'm going to replace them with the ID column."
   ]
  },
  {
   "cell_type": "code",
   "execution_count": 19,
   "id": "394abc2a",
   "metadata": {
    "tags": []
   },
   "outputs": [],
   "source": [
    "df['name'].fillna(df['ID'], inplace=True)"
   ]
  },
  {
   "cell_type": "markdown",
   "id": "882da2c6-d5d0-4951-b86b-0fff03a8f8e0",
   "metadata": {},
   "source": [
    "Check results "
   ]
  },
  {
   "cell_type": "code",
   "execution_count": 20,
   "id": "dde737c3-8b34-4863-b305-94299e57dd04",
   "metadata": {
    "tags": []
   },
   "outputs": [
    {
     "data": {
      "text/plain": [
       "False    378661\n",
       "Name: name, dtype: int64"
      ]
     },
     "execution_count": 20,
     "metadata": {},
     "output_type": "execute_result"
    }
   ],
   "source": [
    "df['name'].isnull().value_counts()"
   ]
  },
  {
   "cell_type": "markdown",
   "id": "2dfa769a-1a30-4cc9-99b3-07856018692e",
   "metadata": {
    "jp-MarkdownHeadingCollapsed": true,
    "tags": []
   },
   "source": [
    "#### 2. What should I do with the 'usd pledged' column?"
   ]
  },
  {
   "cell_type": "markdown",
   "id": "498f4195-eefe-49be-a3bb-05eee001c309",
   "metadata": {},
   "source": [
    "As you can see, there are different values between the 'pledged' column and the 'usd pledged' column for the USD 'currency', furthermore, this column has  3797 empty values. I suggest to drop the 'usd pledge' column, so we can use the 'usd_pledge_real' column only. This is because the 'usd pledge' value, should contain the same value as 'usd_pledged_real' but the 'usd pledge' column has many mistakes."
   ]
  },
  {
   "cell_type": "code",
   "execution_count": 21,
   "id": "90ea190d",
   "metadata": {
    "tags": []
   },
   "outputs": [
    {
     "data": {
      "text/html": [
       "<div>\n",
       "<style scoped>\n",
       "    .dataframe tbody tr th:only-of-type {\n",
       "        vertical-align: middle;\n",
       "    }\n",
       "\n",
       "    .dataframe tbody tr th {\n",
       "        vertical-align: top;\n",
       "    }\n",
       "\n",
       "    .dataframe thead th {\n",
       "        text-align: right;\n",
       "    }\n",
       "</style>\n",
       "<table border=\"1\" class=\"dataframe\">\n",
       "  <thead>\n",
       "    <tr style=\"text-align: right;\">\n",
       "      <th></th>\n",
       "      <th>ID</th>\n",
       "      <th>name</th>\n",
       "      <th>category</th>\n",
       "      <th>main_category</th>\n",
       "      <th>currency</th>\n",
       "      <th>deadline</th>\n",
       "      <th>goal</th>\n",
       "      <th>launched</th>\n",
       "      <th>pledged</th>\n",
       "      <th>state</th>\n",
       "      <th>backers</th>\n",
       "      <th>country</th>\n",
       "      <th>usd_pledged_real</th>\n",
       "      <th>usd_goal_real</th>\n",
       "    </tr>\n",
       "  </thead>\n",
       "  <tbody>\n",
       "    <tr>\n",
       "      <th>0</th>\n",
       "      <td>1000002330</td>\n",
       "      <td>The Songs of Adelaide &amp; Abullah</td>\n",
       "      <td>Poetry</td>\n",
       "      <td>Publishing</td>\n",
       "      <td>GBP</td>\n",
       "      <td>2015-10-09</td>\n",
       "      <td>1000.0</td>\n",
       "      <td>2015-08-11 12:12:28</td>\n",
       "      <td>0.0</td>\n",
       "      <td>failed</td>\n",
       "      <td>0</td>\n",
       "      <td>GB</td>\n",
       "      <td>0.0</td>\n",
       "      <td>1533.95</td>\n",
       "    </tr>\n",
       "    <tr>\n",
       "      <th>1</th>\n",
       "      <td>1000003930</td>\n",
       "      <td>Greeting From Earth: ZGAC Arts Capsule For ET</td>\n",
       "      <td>Narrative Film</td>\n",
       "      <td>Film &amp; Video</td>\n",
       "      <td>USD</td>\n",
       "      <td>2017-11-01</td>\n",
       "      <td>30000.0</td>\n",
       "      <td>2017-09-02 04:43:57</td>\n",
       "      <td>2421.0</td>\n",
       "      <td>failed</td>\n",
       "      <td>15</td>\n",
       "      <td>US</td>\n",
       "      <td>2421.0</td>\n",
       "      <td>30000.00</td>\n",
       "    </tr>\n",
       "    <tr>\n",
       "      <th>2</th>\n",
       "      <td>1000004038</td>\n",
       "      <td>Where is Hank?</td>\n",
       "      <td>Narrative Film</td>\n",
       "      <td>Film &amp; Video</td>\n",
       "      <td>USD</td>\n",
       "      <td>2013-02-26</td>\n",
       "      <td>45000.0</td>\n",
       "      <td>2013-01-12 00:20:50</td>\n",
       "      <td>220.0</td>\n",
       "      <td>failed</td>\n",
       "      <td>3</td>\n",
       "      <td>US</td>\n",
       "      <td>220.0</td>\n",
       "      <td>45000.00</td>\n",
       "    </tr>\n",
       "    <tr>\n",
       "      <th>3</th>\n",
       "      <td>1000007540</td>\n",
       "      <td>ToshiCapital Rekordz Needs Help to Complete Album</td>\n",
       "      <td>Music</td>\n",
       "      <td>Music</td>\n",
       "      <td>USD</td>\n",
       "      <td>2012-04-16</td>\n",
       "      <td>5000.0</td>\n",
       "      <td>2012-03-17 03:24:11</td>\n",
       "      <td>1.0</td>\n",
       "      <td>failed</td>\n",
       "      <td>1</td>\n",
       "      <td>US</td>\n",
       "      <td>1.0</td>\n",
       "      <td>5000.00</td>\n",
       "    </tr>\n",
       "    <tr>\n",
       "      <th>4</th>\n",
       "      <td>1000011046</td>\n",
       "      <td>Community Film Project: The Art of Neighborhoo...</td>\n",
       "      <td>Film &amp; Video</td>\n",
       "      <td>Film &amp; Video</td>\n",
       "      <td>USD</td>\n",
       "      <td>2015-08-29</td>\n",
       "      <td>19500.0</td>\n",
       "      <td>2015-07-04 08:35:03</td>\n",
       "      <td>1283.0</td>\n",
       "      <td>canceled</td>\n",
       "      <td>14</td>\n",
       "      <td>US</td>\n",
       "      <td>1283.0</td>\n",
       "      <td>19500.00</td>\n",
       "    </tr>\n",
       "  </tbody>\n",
       "</table>\n",
       "</div>"
      ],
      "text/plain": [
       "           ID                                               name  \\\n",
       "0  1000002330                    The Songs of Adelaide & Abullah   \n",
       "1  1000003930      Greeting From Earth: ZGAC Arts Capsule For ET   \n",
       "2  1000004038                                     Where is Hank?   \n",
       "3  1000007540  ToshiCapital Rekordz Needs Help to Complete Album   \n",
       "4  1000011046  Community Film Project: The Art of Neighborhoo...   \n",
       "\n",
       "         category main_category currency    deadline     goal  \\\n",
       "0          Poetry    Publishing      GBP  2015-10-09   1000.0   \n",
       "1  Narrative Film  Film & Video      USD  2017-11-01  30000.0   \n",
       "2  Narrative Film  Film & Video      USD  2013-02-26  45000.0   \n",
       "3           Music         Music      USD  2012-04-16   5000.0   \n",
       "4    Film & Video  Film & Video      USD  2015-08-29  19500.0   \n",
       "\n",
       "              launched  pledged     state  backers country  usd_pledged_real  \\\n",
       "0  2015-08-11 12:12:28      0.0    failed        0      GB               0.0   \n",
       "1  2017-09-02 04:43:57   2421.0    failed       15      US            2421.0   \n",
       "2  2013-01-12 00:20:50    220.0    failed        3      US             220.0   \n",
       "3  2012-03-17 03:24:11      1.0    failed        1      US               1.0   \n",
       "4  2015-07-04 08:35:03   1283.0  canceled       14      US            1283.0   \n",
       "\n",
       "   usd_goal_real  \n",
       "0        1533.95  \n",
       "1       30000.00  \n",
       "2       45000.00  \n",
       "3        5000.00  \n",
       "4       19500.00  "
      ]
     },
     "execution_count": 21,
     "metadata": {},
     "output_type": "execute_result"
    }
   ],
   "source": [
    "df.drop('usd pledged', axis = 1, inplace=True)\n",
    "df.head()"
   ]
  },
  {
   "cell_type": "markdown",
   "id": "059f365d-5ca6-44c6-a799-643250bdcc11",
   "metadata": {},
   "source": [
    "#### 3. What should I do with the 'canceled' and 'x' words in the 'name' column?"
   ]
  },
  {
   "cell_type": "markdown",
   "id": "d3cf25b2-36e6-4ef0-8ca8-75a38987201f",
   "metadata": {},
   "source": [
    "I consider that these values don't deserve cleaning, here are my reasons:\n",
    "1. Drop the 'canceled' projects won't allow me to make analysis about this 'state'.\n",
    "2. Fill these values with the 'ID' column won't do any difference, I can't differentiate if there are repeated names to find projects launched more than once anyway. \n",
    "3. I'm not preparing a Machine Learning model."
   ]
  },
  {
   "cell_type": "markdown",
   "id": "ae8f12a6-2ff7-4e8e-8f04-65d59bce2308",
   "metadata": {
    "tags": []
   },
   "source": [
    "#### 4. N,0\" values."
   ]
  },
  {
   "cell_type": "markdown",
   "id": "98bfcdeb-553b-4505-8a11-d098eb6ebb37",
   "metadata": {},
   "source": [
    "I have cheked some columns and I found that the 'country' column has a wrong value (N,0\")."
   ]
  },
  {
   "cell_type": "markdown",
   "id": "cd25dcc3-85bb-4a43-9e10-ef97945dddcf",
   "metadata": {},
   "source": [
    "I want to know if there is any project which was pledged in USD currency but the country is not United States? I do this to be sure about every country make they pledge in their currency, because I'm going to equal those values after (read the next step)."
   ]
  },
  {
   "cell_type": "code",
   "execution_count": 22,
   "id": "81a7b8da-f1c6-46c6-b62b-5afa24ce4855",
   "metadata": {
    "tags": []
   },
   "outputs": [
    {
     "data": {
      "text/plain": [
       "currency  country\n",
       "USD       N,0\"       2738\n",
       "Name: usd_pledged_real, dtype: int64"
      ]
     },
     "execution_count": 22,
     "metadata": {},
     "output_type": "execute_result"
    }
   ],
   "source": [
    "h = df[(df['currency'] == 'USD')&(df['country'] != 'US')]\n",
    "h.groupby(by=['currency', 'country'])['usd_pledged_real'].count()"
   ]
  },
  {
   "cell_type": "markdown",
   "id": "6e291b62-f96a-46f8-88be-ad98bafab59c",
   "metadata": {},
   "source": [
    "As you see, every country is pledged in their own currency. If you check the 'currency' column you can infer\n",
    "that the country column value is the  first two letters of the currency value, so, I'm going to replace those values for the rows which contain 'N,0\"'."
   ]
  },
  {
   "cell_type": "code",
   "execution_count": 23,
   "id": "035fc849-352b-4b77-93b1-d8c3d88a7268",
   "metadata": {
    "tags": []
   },
   "outputs": [
    {
     "data": {
      "text/plain": [
       "US    295365\n",
       "GB     34132\n",
       "CA     14962\n",
       "AU      7950\n",
       "DE      4171\n",
       "FR      2939\n",
       "IT      2878\n",
       "NL      2868\n",
       "ES      2276\n",
       "SE      1788\n",
       "MX      1752\n",
       "NZ      1475\n",
       "DK      1129\n",
       "IE       811\n",
       "CH       768\n",
       "NO       722\n",
       "HK       618\n",
       "BE       617\n",
       "AT       597\n",
       "SG       555\n",
       "EU       186\n",
       "LU        62\n",
       "JP        40\n",
       "Name: country, dtype: int64"
      ]
     },
     "execution_count": 23,
     "metadata": {},
     "output_type": "execute_result"
    }
   ],
   "source": [
    "df.loc[df['country'] == 'N,0\"', 'country'] = df.loc[df['country'] == 'N,0\"', 'currency'].astype(str).str[0:2]\n",
    "df['country'].value_counts()"
   ]
  },
  {
   "cell_type": "markdown",
   "id": "d78ad4e2-56d0-441f-b289-9c4a7d47c551",
   "metadata": {
    "tags": []
   },
   "source": [
    "#### 5. Date Types"
   ]
  },
  {
   "cell_type": "markdown",
   "id": "9c3bfa3e-0b76-423c-a951-583c116eff9e",
   "metadata": {},
   "source": [
    "Is very important to change the value types of the 'launched' and 'deadline' columns to datetime. Let's do it."
   ]
  },
  {
   "cell_type": "code",
   "execution_count": 24,
   "id": "c934bb9e",
   "metadata": {
    "tags": []
   },
   "outputs": [
    {
     "name": "stdout",
     "output_type": "stream",
     "text": [
      "<class 'pandas.core.frame.DataFrame'>\n",
      "RangeIndex: 378661 entries, 0 to 378660\n",
      "Data columns (total 14 columns):\n",
      " #   Column            Non-Null Count   Dtype         \n",
      "---  ------            --------------   -----         \n",
      " 0   ID                378661 non-null  int64         \n",
      " 1   name              378661 non-null  object        \n",
      " 2   category          378661 non-null  object        \n",
      " 3   main_category     378661 non-null  object        \n",
      " 4   currency          378661 non-null  object        \n",
      " 5   deadline          378661 non-null  datetime64[ns]\n",
      " 6   goal              378661 non-null  float64       \n",
      " 7   launched          378661 non-null  datetime64[ns]\n",
      " 8   pledged           378661 non-null  float64       \n",
      " 9   state             378661 non-null  object        \n",
      " 10  backers           378661 non-null  int64         \n",
      " 11  country           378661 non-null  object        \n",
      " 12  usd_pledged_real  378661 non-null  float64       \n",
      " 13  usd_goal_real     378661 non-null  float64       \n",
      "dtypes: datetime64[ns](2), float64(4), int64(2), object(6)\n",
      "memory usage: 40.4+ MB\n"
     ]
    }
   ],
   "source": [
    "df[\"deadline\"]= pd.to_datetime(df[\"deadline\"])\n",
    "df[\"launched\"]= pd.to_datetime(df[\"launched\"]).dt.normalize()\n",
    "df.info()"
   ]
  },
  {
   "cell_type": "markdown",
   "id": "9dfcf435-74ac-4336-b997-b7086262c8fd",
   "metadata": {
    "tags": []
   },
   "source": [
    "### 4. Analysis"
   ]
  },
  {
   "cell_type": "markdown",
   "id": "8e059c53-617d-4c1e-bd8b-1da431311df0",
   "metadata": {},
   "source": [
    "1. Visualization of main cateogries count and show a representation of the states of each category.\n",
    "2. Which is the most/less pledge category?\n",
    "3. Which is the 5 most/less pledged projects which the state 'sucessfull' and what category are they?\n",
    "4. Which is the most pledged country which the state is sucessfull?\n",
    "5. Show a resume of the state.\n",
    "6. Five projects with the most backers which are sucessfull.\n",
    "7. The most sucesfull category. Counting categories.\n",
    "8. How many projects succeed more than one time?\n",
    "9. Which main category attract more backers?\n",
    "10. Which main categories raise more money from successful campaigns?\n",
    "11. How the goal affects the success of the project?\n",
    "12. How the time affects the success of the project?"
   ]
  },
  {
   "cell_type": "markdown",
   "id": "0c7f4524-8a50-48e1-96b5-62d0cd76f908",
   "metadata": {},
   "source": [
    "Before doing analysis, I'm going to supress scientific notation in the notebook\n",
    "https://re-thought.com/how-to-suppress-scientific-notation-in-pandas/ (Supress Scientific Notation)"
   ]
  },
  {
   "cell_type": "code",
   "execution_count": 25,
   "id": "3d5d8f20-bc41-4b31-a0a2-70bc06e6472a",
   "metadata": {},
   "outputs": [],
   "source": [
    "pd.set_option('display.float_format', lambda x: '%.5f' % x)"
   ]
  },
  {
   "cell_type": "markdown",
   "id": "b202df79-e617-487b-a100-672b018caa44",
   "metadata": {},
   "source": [
    "I'm going to calculate the days between the launched and deadline dates."
   ]
  },
  {
   "cell_type": "code",
   "execution_count": 26,
   "id": "ce6c2c7a",
   "metadata": {
    "tags": []
   },
   "outputs": [],
   "source": [
    "df['Time'] = pd.Series(delta.days for delta in (df[\"deadline\"] - df[\"launched\"]))"
   ]
  },
  {
   "cell_type": "markdown",
   "id": "bd66abd7-50d2-40bf-aeae-f6dbe91ed747",
   "metadata": {
    "tags": []
   },
   "source": [
    "#### 1. Visualization of main cateogries count."
   ]
  },
  {
   "cell_type": "code",
   "execution_count": 27,
   "id": "a25e9553-3d6b-42b5-8397-eaa2d60b69d3",
   "metadata": {
    "tags": []
   },
   "outputs": [
    {
     "data": {
      "text/plain": [
       "<AxesSubplot:xlabel='count', ylabel='main_category'>"
      ]
     },
     "execution_count": 27,
     "metadata": {},
     "output_type": "execute_result"
    },
    {
     "data": {
      "image/png": "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\n",
      "text/plain": [
       "<Figure size 576x432 with 1 Axes>"
      ]
     },
     "metadata": {
      "needs_background": "light"
     },
     "output_type": "display_data"
    }
   ],
   "source": [
    "plot_order = df.groupby('main_category')['main_category'].count().sort_values(ascending=False).index.values\n",
    "fig, ax = plt.subplots(figsize=(8,6))\n",
    "sns.countplot(y='main_category', data=df, ax=ax, order=plot_order, palette=\"rocket\")"
   ]
  },
  {
   "cell_type": "code",
   "execution_count": 28,
   "id": "773ecbc9-060c-46a4-adaf-a179e921a54d",
   "metadata": {},
   "outputs": [
    {
     "data": {
      "text/plain": [
       "<AxesSubplot:xlabel='main_category', ylabel='count'>"
      ]
     },
     "execution_count": 28,
     "metadata": {},
     "output_type": "execute_result"
    },
    {
     "data": {
      "image/png": "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\n",
      "text/plain": [
       "<Figure size 1800x432 with 1 Axes>"
      ]
     },
     "metadata": {
      "needs_background": "light"
     },
     "output_type": "display_data"
    }
   ],
   "source": [
    "h_order = ['successful', 'failed', 'live', 'canceled', 'undefined', 'suspended']\n",
    "fig, ax = plt.subplots(figsize=(25,6))\n",
    "sns.countplot(x='main_category', hue='state', hue_order=h_order,  data=df, ax=ax, order=plot_order, palette=\"rocket\")"
   ]
  },
  {
   "cell_type": "markdown",
   "id": "64f0314a-7c1f-4005-b3bd-d06c03269704",
   "metadata": {
    "tags": []
   },
   "source": [
    "#### 2. Which is the most/less pledge category?"
   ]
  },
  {
   "cell_type": "code",
   "execution_count": 29,
   "id": "0e27417f-5213-4d4c-85ee-d7a670719f11",
   "metadata": {
    "tags": []
   },
   "outputs": [
    {
     "data": {
      "text/html": [
       "<div>\n",
       "<style scoped>\n",
       "    .dataframe tbody tr th:only-of-type {\n",
       "        vertical-align: middle;\n",
       "    }\n",
       "\n",
       "    .dataframe tbody tr th {\n",
       "        vertical-align: top;\n",
       "    }\n",
       "\n",
       "    .dataframe thead th {\n",
       "        text-align: right;\n",
       "    }\n",
       "</style>\n",
       "<table border=\"1\" class=\"dataframe\">\n",
       "  <thead>\n",
       "    <tr style=\"text-align: right;\">\n",
       "      <th></th>\n",
       "      <th>usd_pledged_real</th>\n",
       "    </tr>\n",
       "    <tr>\n",
       "      <th>main_category</th>\n",
       "      <th></th>\n",
       "    </tr>\n",
       "  </thead>\n",
       "  <tbody>\n",
       "    <tr>\n",
       "      <th>Games</th>\n",
       "      <td>741327289.54000</td>\n",
       "    </tr>\n",
       "    <tr>\n",
       "      <th>Design</th>\n",
       "      <td>734220233.38000</td>\n",
       "    </tr>\n",
       "    <tr>\n",
       "      <th>Technology</th>\n",
       "      <td>688872493.68000</td>\n",
       "    </tr>\n",
       "    <tr>\n",
       "      <th>Film &amp; Video</th>\n",
       "      <td>391555058.31000</td>\n",
       "    </tr>\n",
       "    <tr>\n",
       "      <th>Music</th>\n",
       "      <td>200318729.45000</td>\n",
       "    </tr>\n",
       "    <tr>\n",
       "      <th>Publishing</th>\n",
       "      <td>133575983.28000</td>\n",
       "    </tr>\n",
       "    <tr>\n",
       "      <th>Fashion</th>\n",
       "      <td>130335278.34000</td>\n",
       "    </tr>\n",
       "    <tr>\n",
       "      <th>Food</th>\n",
       "      <td>125806502.35000</td>\n",
       "    </tr>\n",
       "    <tr>\n",
       "      <th>Art</th>\n",
       "      <td>90680446.11000</td>\n",
       "    </tr>\n",
       "    <tr>\n",
       "      <th>Comics</th>\n",
       "      <td>71518391.77000</td>\n",
       "    </tr>\n",
       "    <tr>\n",
       "      <th>Theater</th>\n",
       "      <td>43716584.21000</td>\n",
       "    </tr>\n",
       "    <tr>\n",
       "      <th>Photography</th>\n",
       "      <td>38501610.58000</td>\n",
       "    </tr>\n",
       "    <tr>\n",
       "      <th>Crafts</th>\n",
       "      <td>14384280.25000</td>\n",
       "    </tr>\n",
       "    <tr>\n",
       "      <th>Dance</th>\n",
       "      <td>13010701.87000</td>\n",
       "    </tr>\n",
       "    <tr>\n",
       "      <th>Journalism</th>\n",
       "      <td>12437665.71000</td>\n",
       "    </tr>\n",
       "  </tbody>\n",
       "</table>\n",
       "</div>"
      ],
      "text/plain": [
       "               usd_pledged_real\n",
       "main_category                  \n",
       "Games           741327289.54000\n",
       "Design          734220233.38000\n",
       "Technology      688872493.68000\n",
       "Film & Video    391555058.31000\n",
       "Music           200318729.45000\n",
       "Publishing      133575983.28000\n",
       "Fashion         130335278.34000\n",
       "Food            125806502.35000\n",
       "Art              90680446.11000\n",
       "Comics           71518391.77000\n",
       "Theater          43716584.21000\n",
       "Photography      38501610.58000\n",
       "Crafts           14384280.25000\n",
       "Dance            13010701.87000\n",
       "Journalism       12437665.71000"
      ]
     },
     "execution_count": 29,
     "metadata": {},
     "output_type": "execute_result"
    }
   ],
   "source": [
    "pd.DataFrame(df.groupby('main_category')['usd_pledged_real'].sum().sort_values(ascending=False))"
   ]
  },
  {
   "cell_type": "markdown",
   "id": "e29d0853-912d-4ede-ac6f-daf915d0d5e5",
   "metadata": {
    "tags": []
   },
   "source": [
    "#### 3. Which is the 5 most/less pledged projects which the state is sucessfull and what category are they?"
   ]
  },
  {
   "cell_type": "code",
   "execution_count": 30,
   "id": "639d3a2d-6db5-4981-b5c0-b3072c205e7e",
   "metadata": {
    "tags": []
   },
   "outputs": [
    {
     "data": {
      "text/html": [
       "<div>\n",
       "<style scoped>\n",
       "    .dataframe tbody tr th:only-of-type {\n",
       "        vertical-align: middle;\n",
       "    }\n",
       "\n",
       "    .dataframe tbody tr th {\n",
       "        vertical-align: top;\n",
       "    }\n",
       "\n",
       "    .dataframe thead th {\n",
       "        text-align: right;\n",
       "    }\n",
       "</style>\n",
       "<table border=\"1\" class=\"dataframe\">\n",
       "  <thead>\n",
       "    <tr style=\"text-align: right;\">\n",
       "      <th></th>\n",
       "      <th>name</th>\n",
       "      <th>usd_pledged_real</th>\n",
       "      <th>main_category</th>\n",
       "      <th>state</th>\n",
       "    </tr>\n",
       "  </thead>\n",
       "  <tbody>\n",
       "    <tr>\n",
       "      <th>157270</th>\n",
       "      <td>Pebble Time - Awesome Smartwatch, No Compromises</td>\n",
       "      <td>20338986.27000</td>\n",
       "      <td>Design</td>\n",
       "      <td>successful</td>\n",
       "    </tr>\n",
       "    <tr>\n",
       "      <th>250254</th>\n",
       "      <td>COOLEST COOLER: 21st Century Cooler that's Act...</td>\n",
       "      <td>13285226.36000</td>\n",
       "      <td>Design</td>\n",
       "      <td>successful</td>\n",
       "    </tr>\n",
       "    <tr>\n",
       "      <th>216629</th>\n",
       "      <td>Pebble 2, Time 2 + All-New Pebble Core</td>\n",
       "      <td>12779843.49000</td>\n",
       "      <td>Design</td>\n",
       "      <td>successful</td>\n",
       "    </tr>\n",
       "    <tr>\n",
       "      <th>289915</th>\n",
       "      <td>Kingdom Death: Monster 1.5</td>\n",
       "      <td>12393139.69000</td>\n",
       "      <td>Games</td>\n",
       "      <td>successful</td>\n",
       "    </tr>\n",
       "    <tr>\n",
       "      <th>282416</th>\n",
       "      <td>Pebble: E-Paper Watch for iPhone and Android</td>\n",
       "      <td>10266845.74000</td>\n",
       "      <td>Design</td>\n",
       "      <td>successful</td>\n",
       "    </tr>\n",
       "    <tr>\n",
       "      <th>...</th>\n",
       "      <td>...</td>\n",
       "      <td>...</td>\n",
       "      <td>...</td>\n",
       "      <td>...</td>\n",
       "    </tr>\n",
       "    <tr>\n",
       "      <th>309500</th>\n",
       "      <td>Finally Free TODAY!!!!</td>\n",
       "      <td>1.00000</td>\n",
       "      <td>Film &amp; Video</td>\n",
       "      <td>successful</td>\n",
       "    </tr>\n",
       "    <tr>\n",
       "      <th>19251</th>\n",
       "      <td>SEALIONS iii</td>\n",
       "      <td>1.00000</td>\n",
       "      <td>Film &amp; Video</td>\n",
       "      <td>successful</td>\n",
       "    </tr>\n",
       "    <tr>\n",
       "      <th>40079</th>\n",
       "      <td>The Laugh Heard Around the World</td>\n",
       "      <td>1.00000</td>\n",
       "      <td>Art</td>\n",
       "      <td>successful</td>\n",
       "    </tr>\n",
       "    <tr>\n",
       "      <th>89180</th>\n",
       "      <td>Spirituality From Absolute Zero</td>\n",
       "      <td>1.00000</td>\n",
       "      <td>Publishing</td>\n",
       "      <td>successful</td>\n",
       "    </tr>\n",
       "    <tr>\n",
       "      <th>232312</th>\n",
       "      <td>What Toodoo based on current weather conditions</td>\n",
       "      <td>0.79000</td>\n",
       "      <td>Technology</td>\n",
       "      <td>successful</td>\n",
       "    </tr>\n",
       "  </tbody>\n",
       "</table>\n",
       "<p>133956 rows × 4 columns</p>\n",
       "</div>"
      ],
      "text/plain": [
       "                                                     name  usd_pledged_real  \\\n",
       "157270   Pebble Time - Awesome Smartwatch, No Compromises    20338986.27000   \n",
       "250254  COOLEST COOLER: 21st Century Cooler that's Act...    13285226.36000   \n",
       "216629             Pebble 2, Time 2 + All-New Pebble Core    12779843.49000   \n",
       "289915                         Kingdom Death: Monster 1.5    12393139.69000   \n",
       "282416       Pebble: E-Paper Watch for iPhone and Android    10266845.74000   \n",
       "...                                                   ...               ...   \n",
       "309500                             Finally Free TODAY!!!!           1.00000   \n",
       "19251                                        SEALIONS iii           1.00000   \n",
       "40079                    The Laugh Heard Around the World           1.00000   \n",
       "89180                     Spirituality From Absolute Zero           1.00000   \n",
       "232312    What Toodoo based on current weather conditions           0.79000   \n",
       "\n",
       "       main_category       state  \n",
       "157270        Design  successful  \n",
       "250254        Design  successful  \n",
       "216629        Design  successful  \n",
       "289915         Games  successful  \n",
       "282416        Design  successful  \n",
       "...              ...         ...  \n",
       "309500  Film & Video  successful  \n",
       "19251   Film & Video  successful  \n",
       "40079            Art  successful  \n",
       "89180     Publishing  successful  \n",
       "232312    Technology  successful  \n",
       "\n",
       "[133956 rows x 4 columns]"
      ]
     },
     "execution_count": 30,
     "metadata": {},
     "output_type": "execute_result"
    }
   ],
   "source": [
    "df_suc =df[df['state'] == 'successful']\n",
    "df_suc.sort_values(by=['usd_pledged_real'], ascending=False)[['name', 'usd_pledged_real', 'main_category', 'state']]"
   ]
  },
  {
   "cell_type": "markdown",
   "id": "5841bb91-cdf5-426c-8d3d-bb6e26f44e9b",
   "metadata": {
    "jp-MarkdownHeadingCollapsed": true,
    "tags": []
   },
   "source": [
    "#### 4. Which is the most pledged country which the state is sucessfull?"
   ]
  },
  {
   "cell_type": "code",
   "execution_count": 31,
   "id": "9d2e053c-2e6b-469a-bc9d-0d5eb9e6ce91",
   "metadata": {
    "tags": []
   },
   "outputs": [
    {
     "data": {
      "text/plain": [
       "country\n",
       "US   2540271607.72000\n",
       "GB    201765072.15000\n",
       "CA     76675332.11000\n",
       "AU     37709201.09000\n",
       "DE     33582266.36000\n",
       "FR     30402220.61000\n",
       "NL     25057975.04000\n",
       "IT     11850102.48000\n",
       "SE     11401819.07000\n",
       "CH     11278747.18000\n",
       "ES     10192868.21000\n",
       "HK      8650421.43000\n",
       "AT      8551657.31000\n",
       "NZ      6634744.54000\n",
       "DK      6568840.46000\n",
       "SG      4808696.07000\n",
       "BE      3722711.53000\n",
       "IE      3307715.09000\n",
       "NO      2088466.68000\n",
       "MX      1921003.71000\n",
       "LU       382356.48000\n",
       "JP        37105.71000\n",
       "EU        28114.96000\n",
       "Name: usd_pledged_real, dtype: float64"
      ]
     },
     "execution_count": 31,
     "metadata": {},
     "output_type": "execute_result"
    }
   ],
   "source": [
    "df_suc.groupby('country')['usd_pledged_real'].sum().sort_values(ascending=False)"
   ]
  },
  {
   "cell_type": "markdown",
   "id": "80fe05e8-d44d-4d10-a16d-e28c56203539",
   "metadata": {
    "tags": []
   },
   "source": [
    "#### 5. Show a resume of the state"
   ]
  },
  {
   "cell_type": "code",
   "execution_count": 32,
   "id": "3924e56c-0e52-4015-82f8-435d0e718886",
   "metadata": {
    "tags": []
   },
   "outputs": [
    {
     "data": {
      "text/plain": [
       "failed        197719\n",
       "successful    133956\n",
       "canceled       38779\n",
       "undefined       3562\n",
       "live            2799\n",
       "suspended       1846\n",
       "Name: state, dtype: int64"
      ]
     },
     "execution_count": 32,
     "metadata": {},
     "output_type": "execute_result"
    }
   ],
   "source": [
    "df['state'].value_counts().sort_values(ascending=False)"
   ]
  },
  {
   "cell_type": "code",
   "execution_count": 33,
   "id": "437c2ed5-cb59-4017-90e5-79ed6dff96eb",
   "metadata": {},
   "outputs": [
    {
     "data": {
      "text/plain": [
       "failed       52.21531\n",
       "successful   35.37623\n",
       "canceled     10.24109\n",
       "undefined     0.94068\n",
       "live          0.73918\n",
       "suspended     0.48751\n",
       "Name: state, dtype: float64"
      ]
     },
     "execution_count": 33,
     "metadata": {},
     "output_type": "execute_result"
    }
   ],
   "source": [
    "(df['state'].value_counts()/len(df.index)*100).sort_values(ascending=False)"
   ]
  },
  {
   "cell_type": "markdown",
   "id": "dffce6b3-6d77-4a31-8f70-8bdc1fe41952",
   "metadata": {
    "tags": []
   },
   "source": [
    "#### 6. Five projects with the most backers which are sucessfull"
   ]
  },
  {
   "cell_type": "code",
   "execution_count": 34,
   "id": "2ff49dce-265d-4d06-8f2a-d305f70f548e",
   "metadata": {
    "tags": []
   },
   "outputs": [
    {
     "data": {
      "text/html": [
       "<div>\n",
       "<style scoped>\n",
       "    .dataframe tbody tr th:only-of-type {\n",
       "        vertical-align: middle;\n",
       "    }\n",
       "\n",
       "    .dataframe tbody tr th {\n",
       "        vertical-align: top;\n",
       "    }\n",
       "\n",
       "    .dataframe thead th {\n",
       "        text-align: right;\n",
       "    }\n",
       "</style>\n",
       "<table border=\"1\" class=\"dataframe\">\n",
       "  <thead>\n",
       "    <tr style=\"text-align: right;\">\n",
       "      <th></th>\n",
       "      <th>ID</th>\n",
       "      <th>name</th>\n",
       "      <th>category</th>\n",
       "      <th>main_category</th>\n",
       "      <th>currency</th>\n",
       "      <th>deadline</th>\n",
       "      <th>goal</th>\n",
       "      <th>launched</th>\n",
       "      <th>pledged</th>\n",
       "      <th>state</th>\n",
       "      <th>backers</th>\n",
       "      <th>country</th>\n",
       "      <th>usd_pledged_real</th>\n",
       "      <th>usd_goal_real</th>\n",
       "      <th>Time</th>\n",
       "    </tr>\n",
       "  </thead>\n",
       "  <tbody>\n",
       "    <tr>\n",
       "      <th>187652</th>\n",
       "      <td>1955357092</td>\n",
       "      <td>Exploding Kittens</td>\n",
       "      <td>Tabletop Games</td>\n",
       "      <td>Games</td>\n",
       "      <td>USD</td>\n",
       "      <td>2015-02-20</td>\n",
       "      <td>10000.00000</td>\n",
       "      <td>2015-01-20</td>\n",
       "      <td>8782571.99000</td>\n",
       "      <td>successful</td>\n",
       "      <td>219382</td>\n",
       "      <td>US</td>\n",
       "      <td>8782571.99000</td>\n",
       "      <td>10000.00000</td>\n",
       "      <td>31</td>\n",
       "    </tr>\n",
       "    <tr>\n",
       "      <th>75900</th>\n",
       "      <td>1386523707</td>\n",
       "      <td>Fidget Cube: A Vinyl Desk Toy</td>\n",
       "      <td>Product Design</td>\n",
       "      <td>Design</td>\n",
       "      <td>USD</td>\n",
       "      <td>2016-10-20</td>\n",
       "      <td>15000.00000</td>\n",
       "      <td>2016-08-30</td>\n",
       "      <td>6465690.30000</td>\n",
       "      <td>successful</td>\n",
       "      <td>154926</td>\n",
       "      <td>US</td>\n",
       "      <td>6465690.30000</td>\n",
       "      <td>15000.00000</td>\n",
       "      <td>51</td>\n",
       "    </tr>\n",
       "    <tr>\n",
       "      <th>292244</th>\n",
       "      <td>557230947</td>\n",
       "      <td>Bring Reading Rainbow Back for Every Child, Ev...</td>\n",
       "      <td>Web</td>\n",
       "      <td>Technology</td>\n",
       "      <td>USD</td>\n",
       "      <td>2014-07-02</td>\n",
       "      <td>1000000.00000</td>\n",
       "      <td>2014-05-28</td>\n",
       "      <td>5408916.95000</td>\n",
       "      <td>successful</td>\n",
       "      <td>105857</td>\n",
       "      <td>US</td>\n",
       "      <td>5408916.95000</td>\n",
       "      <td>1000000.00000</td>\n",
       "      <td>35</td>\n",
       "    </tr>\n",
       "    <tr>\n",
       "      <th>148585</th>\n",
       "      <td>1755266685</td>\n",
       "      <td>The Veronica Mars Movie Project</td>\n",
       "      <td>Narrative Film</td>\n",
       "      <td>Film &amp; Video</td>\n",
       "      <td>USD</td>\n",
       "      <td>2013-04-13</td>\n",
       "      <td>2000000.00000</td>\n",
       "      <td>2013-03-13</td>\n",
       "      <td>5702153.38000</td>\n",
       "      <td>successful</td>\n",
       "      <td>91585</td>\n",
       "      <td>US</td>\n",
       "      <td>5702153.38000</td>\n",
       "      <td>2000000.00000</td>\n",
       "      <td>31</td>\n",
       "    </tr>\n",
       "    <tr>\n",
       "      <th>182657</th>\n",
       "      <td>1929840910</td>\n",
       "      <td>Double Fine Adventure</td>\n",
       "      <td>Video Games</td>\n",
       "      <td>Games</td>\n",
       "      <td>USD</td>\n",
       "      <td>2012-03-14</td>\n",
       "      <td>400000.00000</td>\n",
       "      <td>2012-02-09</td>\n",
       "      <td>3336371.92000</td>\n",
       "      <td>successful</td>\n",
       "      <td>87142</td>\n",
       "      <td>US</td>\n",
       "      <td>3336371.92000</td>\n",
       "      <td>400000.00000</td>\n",
       "      <td>34</td>\n",
       "    </tr>\n",
       "  </tbody>\n",
       "</table>\n",
       "</div>"
      ],
      "text/plain": [
       "                ID                                               name  \\\n",
       "187652  1955357092                                  Exploding Kittens   \n",
       "75900   1386523707                      Fidget Cube: A Vinyl Desk Toy   \n",
       "292244   557230947  Bring Reading Rainbow Back for Every Child, Ev...   \n",
       "148585  1755266685                    The Veronica Mars Movie Project   \n",
       "182657  1929840910                              Double Fine Adventure   \n",
       "\n",
       "              category main_category currency   deadline          goal  \\\n",
       "187652  Tabletop Games         Games      USD 2015-02-20   10000.00000   \n",
       "75900   Product Design        Design      USD 2016-10-20   15000.00000   \n",
       "292244             Web    Technology      USD 2014-07-02 1000000.00000   \n",
       "148585  Narrative Film  Film & Video      USD 2013-04-13 2000000.00000   \n",
       "182657     Video Games         Games      USD 2012-03-14  400000.00000   \n",
       "\n",
       "         launched       pledged       state  backers country  \\\n",
       "187652 2015-01-20 8782571.99000  successful   219382      US   \n",
       "75900  2016-08-30 6465690.30000  successful   154926      US   \n",
       "292244 2014-05-28 5408916.95000  successful   105857      US   \n",
       "148585 2013-03-13 5702153.38000  successful    91585      US   \n",
       "182657 2012-02-09 3336371.92000  successful    87142      US   \n",
       "\n",
       "        usd_pledged_real  usd_goal_real  Time  \n",
       "187652     8782571.99000    10000.00000    31  \n",
       "75900      6465690.30000    15000.00000    51  \n",
       "292244     5408916.95000  1000000.00000    35  \n",
       "148585     5702153.38000  2000000.00000    31  \n",
       "182657     3336371.92000   400000.00000    34  "
      ]
     },
     "execution_count": 34,
     "metadata": {},
     "output_type": "execute_result"
    }
   ],
   "source": [
    "df_suc.sort_values(by=['backers'], ascending=False).head(5)"
   ]
  },
  {
   "cell_type": "markdown",
   "id": "031bda75-be73-4430-8b96-52e69c48dc92",
   "metadata": {
    "tags": []
   },
   "source": [
    "#### 7. The most sucesfull category. Counting categories."
   ]
  },
  {
   "cell_type": "code",
   "execution_count": 35,
   "id": "b790086e-38f6-47d6-bb90-c5e74f767c02",
   "metadata": {
    "tags": []
   },
   "outputs": [
    {
     "data": {
      "text/plain": [
       "main_category\n",
       "Music           24197\n",
       "Film & Video    23623\n",
       "Games           12518\n",
       "Publishing      12300\n",
       "Art             11510\n",
       "Design          10550\n",
       "Theater          6534\n",
       "Technology       6434\n",
       "Food             6085\n",
       "Comics           5842\n",
       "Fashion          5593\n",
       "Photography      3305\n",
       "Dance            2338\n",
       "Crafts           2115\n",
       "Journalism       1012\n",
       "Name: main_category, dtype: int64"
      ]
     },
     "execution_count": 35,
     "metadata": {},
     "output_type": "execute_result"
    }
   ],
   "source": [
    "df_suc.groupby('main_category')['main_category'].count().sort_values(ascending=False)"
   ]
  },
  {
   "cell_type": "code",
   "execution_count": 36,
   "id": "4bb2482d-44e4-40da-b4ac-12a30045d5f5",
   "metadata": {
    "tags": []
   },
   "outputs": [
    {
     "data": {
      "text/plain": [
       "<AxesSubplot:xlabel='count', ylabel='main_category'>"
      ]
     },
     "execution_count": 36,
     "metadata": {},
     "output_type": "execute_result"
    },
    {
     "data": {
      "image/png": "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\n",
      "text/plain": [
       "<Figure size 576x432 with 1 Axes>"
      ]
     },
     "metadata": {
      "needs_background": "light"
     },
     "output_type": "display_data"
    }
   ],
   "source": [
    "plot_order_m1 = df_suc.groupby('main_category')['main_category'].count().sort_values(ascending=False).index.values\n",
    "fig, ax_m1 = plt.subplots(figsize=(8,6))\n",
    "sns.countplot(y='main_category', data=df_suc, ax=ax_m1, order=plot_order_m1, palette=\"rocket\")"
   ]
  },
  {
   "cell_type": "markdown",
   "id": "1f77c264-0813-4abb-9af4-58dc50aca942",
   "metadata": {
    "tags": []
   },
   "source": [
    "#### 8. How many projects repeated and succeed more than one time? "
   ]
  },
  {
   "cell_type": "markdown",
   "id": "27ff4348-0121-4a65-9c3d-e3d584ca85fa",
   "metadata": {},
   "source": [
    "1. Filter by state, we only need successful projects.\n",
    "2. Group by name, and count the repeated projects\n",
    "3. Group by the already counted projects, so we have the groups of how many projects succeed."
   ]
  },
  {
   "cell_type": "code",
   "execution_count": 37,
   "id": "79ea3f03-4218-47bc-a0dd-96dc6e978dcf",
   "metadata": {},
   "outputs": [],
   "source": [
    "df_succ = (df_suc.groupby(['name'])['ID'].count()).to_frame()"
   ]
  },
  {
   "cell_type": "code",
   "execution_count": 38,
   "id": "2d47b68d-307e-4e0a-9b20-5ea781f08ece",
   "metadata": {},
   "outputs": [
    {
     "data": {
      "text/plain": [
       "ID\n",
       "1    133222\n",
       "2       298\n",
       "3        34\n",
       "4         4\n",
       "5         4\n",
       "Name: ID, dtype: int64"
      ]
     },
     "execution_count": 38,
     "metadata": {},
     "output_type": "execute_result"
    }
   ],
   "source": [
    "df_succ.groupby(['ID'])['ID'].count()"
   ]
  },
  {
   "cell_type": "markdown",
   "id": "b74173dc-eab5-4c0d-b6da-4a32be037be1",
   "metadata": {
    "tags": []
   },
   "source": [
    "#### 9. Which category attract more backers?"
   ]
  },
  {
   "cell_type": "markdown",
   "id": "944bbb58-013a-4977-8a97-500636d42cd0",
   "metadata": {},
   "source": [
    "I'm going to group by main category and calculate some statistics "
   ]
  },
  {
   "cell_type": "code",
   "execution_count": 39,
   "id": "b4657d5e-3d5c-4058-bd72-f044d41a188e",
   "metadata": {
    "tags": []
   },
   "outputs": [
    {
     "data": {
      "text/html": [
       "<div>\n",
       "<style scoped>\n",
       "    .dataframe tbody tr th:only-of-type {\n",
       "        vertical-align: middle;\n",
       "    }\n",
       "\n",
       "    .dataframe tbody tr th {\n",
       "        vertical-align: top;\n",
       "    }\n",
       "\n",
       "    .dataframe thead th {\n",
       "        text-align: right;\n",
       "    }\n",
       "</style>\n",
       "<table border=\"1\" class=\"dataframe\">\n",
       "  <thead>\n",
       "    <tr style=\"text-align: right;\">\n",
       "      <th></th>\n",
       "      <th>mean</th>\n",
       "      <th>median</th>\n",
       "      <th>sum</th>\n",
       "    </tr>\n",
       "    <tr>\n",
       "      <th>main_category</th>\n",
       "      <th></th>\n",
       "      <th></th>\n",
       "      <th></th>\n",
       "    </tr>\n",
       "  </thead>\n",
       "  <tbody>\n",
       "    <tr>\n",
       "      <th>Games</th>\n",
       "      <td>814.38409</td>\n",
       "      <td>220.00000</td>\n",
       "      <td>10194460</td>\n",
       "    </tr>\n",
       "    <tr>\n",
       "      <th>Design</th>\n",
       "      <td>614.78379</td>\n",
       "      <td>168.00000</td>\n",
       "      <td>6485969</td>\n",
       "    </tr>\n",
       "    <tr>\n",
       "      <th>Technology</th>\n",
       "      <td>717.67874</td>\n",
       "      <td>192.00000</td>\n",
       "      <td>4617545</td>\n",
       "    </tr>\n",
       "    <tr>\n",
       "      <th>Film &amp; Video</th>\n",
       "      <td>152.56043</td>\n",
       "      <td>57.00000</td>\n",
       "      <td>3603935</td>\n",
       "    </tr>\n",
       "    <tr>\n",
       "      <th>Music</th>\n",
       "      <td>102.18535</td>\n",
       "      <td>59.00000</td>\n",
       "      <td>2472579</td>\n",
       "    </tr>\n",
       "    <tr>\n",
       "      <th>Publishing</th>\n",
       "      <td>158.82309</td>\n",
       "      <td>67.00000</td>\n",
       "      <td>1953524</td>\n",
       "    </tr>\n",
       "    <tr>\n",
       "      <th>Comics</th>\n",
       "      <td>231.40431</td>\n",
       "      <td>101.00000</td>\n",
       "      <td>1351864</td>\n",
       "    </tr>\n",
       "    <tr>\n",
       "      <th>Fashion</th>\n",
       "      <td>217.00125</td>\n",
       "      <td>77.00000</td>\n",
       "      <td>1213688</td>\n",
       "    </tr>\n",
       "    <tr>\n",
       "      <th>Food</th>\n",
       "      <td>180.55793</td>\n",
       "      <td>96.00000</td>\n",
       "      <td>1098695</td>\n",
       "    </tr>\n",
       "    <tr>\n",
       "      <th>Art</th>\n",
       "      <td>90.35812</td>\n",
       "      <td>43.00000</td>\n",
       "      <td>1040022</td>\n",
       "    </tr>\n",
       "    <tr>\n",
       "      <th>Theater</th>\n",
       "      <td>70.50566</td>\n",
       "      <td>44.00000</td>\n",
       "      <td>460684</td>\n",
       "    </tr>\n",
       "    <tr>\n",
       "      <th>Photography</th>\n",
       "      <td>108.74644</td>\n",
       "      <td>52.00000</td>\n",
       "      <td>359407</td>\n",
       "    </tr>\n",
       "    <tr>\n",
       "      <th>Crafts</th>\n",
       "      <td>94.14846</td>\n",
       "      <td>37.00000</td>\n",
       "      <td>199124</td>\n",
       "    </tr>\n",
       "    <tr>\n",
       "      <th>Journalism</th>\n",
       "      <td>152.30632</td>\n",
       "      <td>55.50000</td>\n",
       "      <td>154134</td>\n",
       "    </tr>\n",
       "    <tr>\n",
       "      <th>Dance</th>\n",
       "      <td>63.39607</td>\n",
       "      <td>45.00000</td>\n",
       "      <td>148220</td>\n",
       "    </tr>\n",
       "  </tbody>\n",
       "</table>\n",
       "</div>"
      ],
      "text/plain": [
       "                   mean    median       sum\n",
       "main_category                              \n",
       "Games         814.38409 220.00000  10194460\n",
       "Design        614.78379 168.00000   6485969\n",
       "Technology    717.67874 192.00000   4617545\n",
       "Film & Video  152.56043  57.00000   3603935\n",
       "Music         102.18535  59.00000   2472579\n",
       "Publishing    158.82309  67.00000   1953524\n",
       "Comics        231.40431 101.00000   1351864\n",
       "Fashion       217.00125  77.00000   1213688\n",
       "Food          180.55793  96.00000   1098695\n",
       "Art            90.35812  43.00000   1040022\n",
       "Theater        70.50566  44.00000    460684\n",
       "Photography   108.74644  52.00000    359407\n",
       "Crafts         94.14846  37.00000    199124\n",
       "Journalism    152.30632  55.50000    154134\n",
       "Dance          63.39607  45.00000    148220"
      ]
     },
     "execution_count": 39,
     "metadata": {},
     "output_type": "execute_result"
    }
   ],
   "source": [
    "df_suc.groupby('main_category')['backers'].agg(['mean', 'median', 'sum']).sort_values(by=['sum'], ascending=False)"
   ]
  },
  {
   "cell_type": "markdown",
   "id": "c1686b52-b17a-4f16-99ba-4007409cad2f",
   "metadata": {
    "tags": []
   },
   "source": [
    "#### 10. Which main categories raise more money from successful campaigns"
   ]
  },
  {
   "cell_type": "code",
   "execution_count": 40,
   "id": "24f61287-2541-48a5-adc4-7675bd70325b",
   "metadata": {
    "tags": []
   },
   "outputs": [
    {
     "data": {
      "text/html": [
       "<div>\n",
       "<style scoped>\n",
       "    .dataframe tbody tr th:only-of-type {\n",
       "        vertical-align: middle;\n",
       "    }\n",
       "\n",
       "    .dataframe tbody tr th {\n",
       "        vertical-align: top;\n",
       "    }\n",
       "\n",
       "    .dataframe thead th {\n",
       "        text-align: right;\n",
       "    }\n",
       "</style>\n",
       "<table border=\"1\" class=\"dataframe\">\n",
       "  <thead>\n",
       "    <tr style=\"text-align: right;\">\n",
       "      <th></th>\n",
       "      <th>sum</th>\n",
       "    </tr>\n",
       "    <tr>\n",
       "      <th>main_category</th>\n",
       "      <th></th>\n",
       "    </tr>\n",
       "  </thead>\n",
       "  <tbody>\n",
       "    <tr>\n",
       "      <th>Games</th>\n",
       "      <td>678835556.79000</td>\n",
       "    </tr>\n",
       "    <tr>\n",
       "      <th>Design</th>\n",
       "      <td>663157429.75000</td>\n",
       "    </tr>\n",
       "    <tr>\n",
       "      <th>Technology</th>\n",
       "      <td>598913794.11000</td>\n",
       "    </tr>\n",
       "    <tr>\n",
       "      <th>Film &amp; Video</th>\n",
       "      <td>329585082.40000</td>\n",
       "    </tr>\n",
       "    <tr>\n",
       "      <th>Music</th>\n",
       "      <td>177560789.56000</td>\n",
       "    </tr>\n",
       "    <tr>\n",
       "      <th>Publishing</th>\n",
       "      <td>116074001.93000</td>\n",
       "    </tr>\n",
       "    <tr>\n",
       "      <th>Fashion</th>\n",
       "      <td>113462705.10000</td>\n",
       "    </tr>\n",
       "    <tr>\n",
       "      <th>Food</th>\n",
       "      <td>105571041.29000</td>\n",
       "    </tr>\n",
       "    <tr>\n",
       "      <th>Art</th>\n",
       "      <td>80246509.72000</td>\n",
       "    </tr>\n",
       "    <tr>\n",
       "      <th>Comics</th>\n",
       "      <td>66515027.09000</td>\n",
       "    </tr>\n",
       "    <tr>\n",
       "      <th>Theater</th>\n",
       "      <td>39028463.46000</td>\n",
       "    </tr>\n",
       "    <tr>\n",
       "      <th>Photography</th>\n",
       "      <td>33419136.46000</td>\n",
       "    </tr>\n",
       "    <tr>\n",
       "      <th>Dance</th>\n",
       "      <td>12143609.69000</td>\n",
       "    </tr>\n",
       "    <tr>\n",
       "      <th>Crafts</th>\n",
       "      <td>11906808.92000</td>\n",
       "    </tr>\n",
       "    <tr>\n",
       "      <th>Journalism</th>\n",
       "      <td>10469089.72000</td>\n",
       "    </tr>\n",
       "  </tbody>\n",
       "</table>\n",
       "</div>"
      ],
      "text/plain": [
       "                          sum\n",
       "main_category                \n",
       "Games         678835556.79000\n",
       "Design        663157429.75000\n",
       "Technology    598913794.11000\n",
       "Film & Video  329585082.40000\n",
       "Music         177560789.56000\n",
       "Publishing    116074001.93000\n",
       "Fashion       113462705.10000\n",
       "Food          105571041.29000\n",
       "Art            80246509.72000\n",
       "Comics         66515027.09000\n",
       "Theater        39028463.46000\n",
       "Photography    33419136.46000\n",
       "Dance          12143609.69000\n",
       "Crafts         11906808.92000\n",
       "Journalism     10469089.72000"
      ]
     },
     "execution_count": 40,
     "metadata": {},
     "output_type": "execute_result"
    }
   ],
   "source": [
    "df_suc.groupby('main_category')['usd_pledged_real'].agg(['sum']).sort_values(by=['sum'], ascending=False)"
   ]
  },
  {
   "cell_type": "markdown",
   "id": "403feda3-1fbf-4b83-92b1-97adfdf41d9b",
   "metadata": {},
   "source": [
    "#### 11. How the goal affects the success of the project?"
   ]
  },
  {
   "cell_type": "code",
   "execution_count": 45,
   "id": "b633ca22-62cd-4035-b9f4-8ca115d27411",
   "metadata": {
    "tags": []
   },
   "outputs": [],
   "source": [
    "df_clean =df[(df['state'] == 'successful') | (df['state'] == 'failed')]"
   ]
  },
  {
   "cell_type": "code",
   "execution_count": 50,
   "id": "747afe58-2f3b-4269-8a89-596f1d3bd57c",
   "metadata": {},
   "outputs": [
    {
     "data": {
      "text/plain": [
       "<AxesSubplot:xlabel='goal', ylabel='usd_pledged_real'>"
      ]
     },
     "execution_count": 50,
     "metadata": {},
     "output_type": "execute_result"
    },
    {
     "data": {
      "image/png": "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\n",
      "text/plain": [
       "<Figure size 1440x432 with 1 Axes>"
      ]
     },
     "metadata": {
      "needs_background": "light"
     },
     "output_type": "display_data"
    }
   ],
   "source": [
    "fig, ax_m1 = plt.subplots(figsize=(20,6))\n",
    "sns.scatterplot(x='goal', y='usd_pledged_real', data=df_clean, hue='state', palette=\"rocket\")"
   ]
  },
  {
   "cell_type": "markdown",
   "id": "d5b08938-6244-46c2-b58a-f8c97dea2090",
   "metadata": {},
   "source": [
    "#### 12. How the time affects the success of the project?"
   ]
  },
  {
   "cell_type": "code",
   "execution_count": 52,
   "id": "5e65f15d-6ff7-46b6-b093-6a8d87b852e5",
   "metadata": {},
   "outputs": [
    {
     "data": {
      "text/plain": [
       "<AxesSubplot:xlabel='Time', ylabel='usd_pledged_real'>"
      ]
     },
     "execution_count": 52,
     "metadata": {},
     "output_type": "execute_result"
    },
    {
     "data": {
      "image/png": "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